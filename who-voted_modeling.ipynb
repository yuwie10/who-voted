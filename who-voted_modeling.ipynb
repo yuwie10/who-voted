{
 "cells": [
  {
   "cell_type": "markdown",
   "metadata": {},
   "source": [
    "# Predict which voter-eligible Colorado citizens actually voted in the 2016 US presidential election.\n",
    "\n",
    "This is the Spring 2017, Harvard Statistics 149: Generalized Linear Models prediction contest/course project.\n",
    "\n",
    "The goal of this project is to use the modeling methods you learned in Statistics 149 (and possibly other related methods) to analyze a data set on whether a Colorado voting-eligible citizen ended up actually voting in the 2016 US election. These data were kindly provided by moveon.org. Competition can be found [here](inclass.kaggle.com/c/who-voted) and ended April 30, 2017, at 10pm EDT.\n",
    "\n",
    "## Model training\n",
    "\n",
    "The goal of this notebook is to build the models we will use to predict Colorado voter turnout in the 2016 election.\n",
    "\n",
    "This is the fourth notebook for this competition. See [part 1](who-voted_EDA.ipynb) and [part 2](who-voted_features.ipynb) for initial exploration of the data and [part 3](who-voted_impute.ipynb) for data imputation."
   ]
  },
  {
   "cell_type": "code",
   "execution_count": 1,
   "metadata": {
    "collapsed": true
   },
   "outputs": [],
   "source": [
    "import pandas as pd\n",
    "import numpy as np\n",
    "\n",
    "import matplotlib.pyplot as plt\n",
    "import seaborn as sns\n",
    "%matplotlib inline\n",
    "\n",
    "from IPython.core.interactiveshell import InteractiveShell\n",
    "InteractiveShell.ast_node_interactivity = \"all\"\n",
    "\n",
    "from sklearn.ensemble import RandomForestClassifier\n",
    "from sklearn.linear_model import LogisticRegression\n",
    "\n",
    "from sklearn.metrics import roc_curve, auc\n",
    "from sklearn.metrics import log_loss\n",
    "from sklearn.model_selection import train_test_split\n",
    "from sklearn.model_selection import StratifiedKFold\n",
    "from sklearn.model_selection import cross_val_score\n",
    "from sklearn.model_selection import GridSearchCV\n",
    "\n",
    "from scipy.stats import randint as sp_randint\n",
    "from scipy import interp\n",
    "from itertools import cycle\n",
    "\n",
    "import xgboost as xgb\n",
    "from xgboost.sklearn import XGBClassifier\n",
    "\n",
    "from sklearn.ensemble import VotingClassifier\n",
    "from mlxtend.classifier import StackingCVClassifier\n",
    "\n",
    "from sklearn.externals import joblib"
   ]
  },
  {
   "cell_type": "markdown",
   "metadata": {},
   "source": [
    "[Local functions](https://github.com/yuwie10/who-voted/blob/master/who_voted_functions.py)."
   ]
  },
  {
   "cell_type": "code",
   "execution_count": 121,
   "metadata": {
    "collapsed": true
   },
   "outputs": [],
   "source": [
    "import who_voted_functions as wv\n",
    "import importlib as imp\n",
    "imp.reload(wv);"
   ]
  },
  {
   "cell_type": "markdown",
   "metadata": {},
   "source": [
    "Load data and create X and y arrays."
   ]
  },
  {
   "cell_type": "code",
   "execution_count": 3,
   "metadata": {
    "collapsed": true
   },
   "outputs": [],
   "source": [
    "train_imp = wv.load_data('train_imp.csv', compression = 'gzip')\n",
    "train = wv.load_data('train_renamed.csv')"
   ]
  },
  {
   "cell_type": "code",
   "execution_count": 4,
   "metadata": {},
   "outputs": [
    {
     "data": {
      "text/html": [
       "<div>\n",
       "<table border=\"1\" class=\"dataframe\">\n",
       "  <thead>\n",
       "    <tr style=\"text-align: right;\">\n",
       "      <th></th>\n",
       "      <th>gender</th>\n",
       "      <th>congress_district</th>\n",
       "      <th>state_house</th>\n",
       "      <th>age</th>\n",
       "      <th>party</th>\n",
       "      <th>race</th>\n",
       "      <th>hs_only</th>\n",
       "      <th>married</th>\n",
       "      <th>children</th>\n",
       "      <th>cath</th>\n",
       "      <th>evang</th>\n",
       "      <th>non_chrst</th>\n",
       "      <th>other_chrst</th>\n",
       "      <th>days_reg</th>\n",
       "      <th>dist_ballot</th>\n",
       "      <th>dist_poll</th>\n",
       "      <th>voted</th>\n",
       "    </tr>\n",
       "  </thead>\n",
       "  <tbody>\n",
       "    <tr>\n",
       "      <th>0</th>\n",
       "      <td>M</td>\n",
       "      <td>7</td>\n",
       "      <td>31</td>\n",
       "      <td>36</td>\n",
       "      <td>U</td>\n",
       "      <td>Hispanic</td>\n",
       "      <td>25.4</td>\n",
       "      <td>63.4</td>\n",
       "      <td>54.0</td>\n",
       "      <td>16.7</td>\n",
       "      <td>16.5</td>\n",
       "      <td>39.6</td>\n",
       "      <td>27.3</td>\n",
       "      <td>420</td>\n",
       "      <td>2.658148</td>\n",
       "      <td>3.456541</td>\n",
       "      <td>Y</td>\n",
       "    </tr>\n",
       "    <tr>\n",
       "      <th>1</th>\n",
       "      <td>F</td>\n",
       "      <td>6</td>\n",
       "      <td>38</td>\n",
       "      <td>55</td>\n",
       "      <td>U</td>\n",
       "      <td>Uncoded</td>\n",
       "      <td>7.9</td>\n",
       "      <td>97.8</td>\n",
       "      <td>59.8</td>\n",
       "      <td>16.7</td>\n",
       "      <td>15.5</td>\n",
       "      <td>30.9</td>\n",
       "      <td>36.9</td>\n",
       "      <td>307</td>\n",
       "      <td>2.240415</td>\n",
       "      <td>2.130636</td>\n",
       "      <td>Y</td>\n",
       "    </tr>\n",
       "    <tr>\n",
       "      <th>2</th>\n",
       "      <td>F</td>\n",
       "      <td>2</td>\n",
       "      <td>53</td>\n",
       "      <td>24</td>\n",
       "      <td>U</td>\n",
       "      <td>Caucasian</td>\n",
       "      <td>50.2</td>\n",
       "      <td>7.6</td>\n",
       "      <td>49.5</td>\n",
       "      <td>14.6</td>\n",
       "      <td>24.0</td>\n",
       "      <td>29.6</td>\n",
       "      <td>31.7</td>\n",
       "      <td>292</td>\n",
       "      <td>2.332767</td>\n",
       "      <td>2.872147</td>\n",
       "      <td>Y</td>\n",
       "    </tr>\n",
       "    <tr>\n",
       "      <th>3</th>\n",
       "      <td>F</td>\n",
       "      <td>7</td>\n",
       "      <td>30</td>\n",
       "      <td>25</td>\n",
       "      <td>D</td>\n",
       "      <td>Caucasian</td>\n",
       "      <td>38.0</td>\n",
       "      <td>8.5</td>\n",
       "      <td>47.4</td>\n",
       "      <td>13.1</td>\n",
       "      <td>22.3</td>\n",
       "      <td>33.3</td>\n",
       "      <td>31.4</td>\n",
       "      <td>316</td>\n",
       "      <td>2.983480</td>\n",
       "      <td>3.193841</td>\n",
       "      <td>Y</td>\n",
       "    </tr>\n",
       "    <tr>\n",
       "      <th>4</th>\n",
       "      <td>M</td>\n",
       "      <td>5</td>\n",
       "      <td>19</td>\n",
       "      <td>22</td>\n",
       "      <td>R</td>\n",
       "      <td>Caucasian</td>\n",
       "      <td>30.5</td>\n",
       "      <td>19.1</td>\n",
       "      <td>23.1</td>\n",
       "      <td>16.0</td>\n",
       "      <td>10.5</td>\n",
       "      <td>39.1</td>\n",
       "      <td>34.5</td>\n",
       "      <td>392</td>\n",
       "      <td>3.160107</td>\n",
       "      <td>3.841248</td>\n",
       "      <td>Y</td>\n",
       "    </tr>\n",
       "  </tbody>\n",
       "</table>\n",
       "</div>"
      ],
      "text/plain": [
       "  gender congress_district state_house  age party       race  hs_only  \\\n",
       "0      M                 7          31   36     U   Hispanic     25.4   \n",
       "1      F                 6          38   55     U    Uncoded      7.9   \n",
       "2      F                 2          53   24     U  Caucasian     50.2   \n",
       "3      F                 7          30   25     D  Caucasian     38.0   \n",
       "4      M                 5          19   22     R  Caucasian     30.5   \n",
       "\n",
       "   married  children  cath  evang  non_chrst  other_chrst  days_reg  \\\n",
       "0     63.4      54.0  16.7   16.5       39.6         27.3       420   \n",
       "1     97.8      59.8  16.7   15.5       30.9         36.9       307   \n",
       "2      7.6      49.5  14.6   24.0       29.6         31.7       292   \n",
       "3      8.5      47.4  13.1   22.3       33.3         31.4       316   \n",
       "4     19.1      23.1  16.0   10.5       39.1         34.5       392   \n",
       "\n",
       "   dist_ballot  dist_poll voted  \n",
       "0     2.658148   3.456541     Y  \n",
       "1     2.240415   2.130636     Y  \n",
       "2     2.332767   2.872147     Y  \n",
       "3     2.983480   3.193841     Y  \n",
       "4     3.160107   3.841248     Y  "
      ]
     },
     "execution_count": 4,
     "metadata": {},
     "output_type": "execute_result"
    }
   ],
   "source": [
    "pd.set_option('max_columns', 100)\n",
    "train_imp.head()"
   ]
  },
  {
   "cell_type": "code",
   "execution_count": 5,
   "metadata": {},
   "outputs": [
    {
     "data": {
      "text/plain": [
       "(118529,)"
      ]
     },
     "execution_count": 5,
     "metadata": {},
     "output_type": "execute_result"
    },
    {
     "data": {
      "text/plain": [
       "(118529, 98)"
      ]
     },
     "execution_count": 5,
     "metadata": {},
     "output_type": "execute_result"
    }
   ],
   "source": [
    "y_vector = wv.get_y_vector(train_imp, 'voted')\n",
    "\n",
    "quant, categ = wv.get_cols(train_imp)\n",
    "X_matrix = wv.design_Xmatrix(train_imp, quant, categ)\n",
    "\n",
    "y_vector.shape\n",
    "X_matrix.shape"
   ]
  },
  {
   "cell_type": "markdown",
   "metadata": {},
   "source": [
    "We have to decide on an appropriate k for k-fold cross validation. Let's plot the ROC curves for different cv splits to select the best k. Code adapted from [here](http://scikit-learn.org/stable/auto_examples/model_selection/plot_roc_crossval.html)."
   ]
  },
  {
   "cell_type": "code",
   "execution_count": 28,
   "metadata": {},
   "outputs": [
    {
     "data": {
      "image/png": "[encoded data removed]",
      "text/plain": [
       "<matplotlib.figure.Figure at 0x111c84eb8>"
      ]
     },
     "metadata": {},
     "output_type": "display_data"
    }
   ],
   "source": [
    "clf = RandomForestClassifier(n_estimators = 500)\n",
    "cv = StratifiedKFold(n_splits = 20)\n",
    "mean_tpr = 0.0\n",
    "mean_fpr = np.linspace(0, 1, 100)\n",
    "\n",
    "colors = cycle(['c', 'indigo', 'seagreen', 'darkorange', 'b', 'k', 'r', 'm', \n",
    "               'g', 'w', 'darkred', 'darkblue', 'grey', 'y'])\n",
    "lw = 2\n",
    "fig, ax = plt.subplots()\n",
    "fig.set_size_inches(10, 10);\n",
    "\n",
    "i = 0\n",
    "for (train, test), color in zip(cv.split(X_matrix, y_vector), colors):\n",
    "    probas_ = clf.fit(X_matrix[train], y_vector[train]).predict_proba(X_matrix[test])\n",
    "    # Compute ROC curve and area under the curve\n",
    "    fpr, tpr, thresholds = roc_curve(y_vector[test], probas_[:, 1])\n",
    "    mean_tpr += interp(mean_fpr, fpr, tpr)\n",
    "    mean_tpr[0] = 0.0\n",
    "    roc_auc = auc(fpr, tpr)\n",
    "    _ = plt.plot(fpr, tpr, lw=lw, color=color,\n",
    "             label='ROC fold %d (area = %0.2f)' % (i, roc_auc));\n",
    "    i += 1\n",
    "    \n",
    "_ = plt.plot([0, 1], [0, 1], linestyle = '--', lw = lw, color = 'k', label = 'Luck');\n",
    "\n",
    "mean_tpr /= cv.get_n_splits(X_matrix, y_vector)\n",
    "mean_tpr[-1] = 1.0\n",
    "mean_auc = auc(mean_fpr, mean_tpr)\n",
    "_ = plt.plot(mean_fpr, mean_tpr, color = 'g', linestyle = '--',\n",
    "             label = 'Mean ROC (area = {%0.2f})'.format(mean_auc), lw = lw);\n",
    "\n",
    "_ = plt.xlim([-0.05, 1.05]);\n",
    "_ = plt.ylim([-0.05, 1.05]);\n",
    "_ = plt.xlabel('False Positive Rate');\n",
    "_ = plt.ylabel('True Positive Rate');\n",
    "_ = plt.title('Receiver operating characteristic example');\n",
    "_ = plt.legend(loc = \"lower right\");"
   ]
  },
  {
   "cell_type": "markdown",
   "metadata": {},
   "source": [
    "The cv splits are similar, although the best split is cv = 11."
   ]
  },
  {
   "cell_type": "code",
   "execution_count": 6,
   "metadata": {
    "collapsed": true
   },
   "outputs": [],
   "source": [
    "cv = StratifiedKFold(n_splits = 11, random_state = 123)"
   ]
  },
  {
   "cell_type": "markdown",
   "metadata": {},
   "source": [
    "## Hyperparameter tuning\n",
    "\n",
    "The performance of random forests is known to increase substantially following hyperparameter tuning. We will test Bayesian optimization of hyperparameter tuning, which seeks to maximize the explore/exploit tension in searching parameter space, provided by [SigOpt](sigopt.com). Code was adapted from [here](https://github.com/sigopt/sigopt-examples/blob/master/random-forest/python/Random Forest.ipynb)."
   ]
  },
  {
   "cell_type": "code",
   "execution_count": 30,
   "metadata": {
    "collapsed": true
   },
   "outputs": [],
   "source": [
    "from sigopt import Connection\n",
    "conn = Connection(client_token = 'ZGILQJTPPAWFCOOOZPALZQHRKNBANVQQUEVEJJSYYOUVYNYI')"
   ]
  },
  {
   "cell_type": "code",
   "execution_count": 63,
   "metadata": {},
   "outputs": [
    {
     "name": "stdout",
     "output_type": "stream",
     "text": [
      "Created experiment: https://sigopt.com/experiment/17994\n"
     ]
    }
   ],
   "source": [
    "#create SigOpt experiment\n",
    "experiment = conn.experiments().create(\n",
    "  name=\"Who voted?\",\n",
    "  parameters=[\n",
    "    dict(name=\"max_features\", type=\"int\", bounds=dict(min=1, max=(X_matrix.shape[1]-1))),\n",
    "    dict(name=\"min_samples_leaf\", type=\"int\", bounds=dict(min=40, max=200)),\n",
    "    dict(name='n_estimators', type='int', bounds=dict(min=100, max=500)),\n",
    "    {\n",
    "    'categorical_values':[\n",
    "        {\n",
    "            'enum_index':1,\n",
    "            'name':'gini',\n",
    "            'object':'categorical_value'\n",
    "        },\n",
    "        {\n",
    "            'enum_index':2,\n",
    "            'name':'entropy',\n",
    "            'object':'categorical_value'\n",
    "        }\n",
    "    ],\n",
    "    'default_value':'gini',\n",
    "    'name':'criterion',\n",
    "    'type':'categorical'\n",
    "    },\n",
    "    {\n",
    "    'categorical_values':[\n",
    "        {\n",
    "            'enum_index':1,\n",
    "            'name':'balanced',\n",
    "            'object':'categorical_value'\n",
    "        },\n",
    "        {\n",
    "            'enum_index':2,\n",
    "            'name':'balanced_subsample',\n",
    "            'object':'categorical_value'\n",
    "        }\n",
    "    ],\n",
    "    'default_value':'balanced',\n",
    "    'name':'class_weight',\n",
    "    'type':'categorical'\n",
    "    }\n",
    "  ]\n",
    ")\n",
    "print(\"Created experiment: https://sigopt.com/experiment/\" + experiment.id)"
   ]
  },
  {
   "cell_type": "code",
   "execution_count": 64,
   "metadata": {
    "collapsed": true
   },
   "outputs": [],
   "source": [
    "def evaluate_model(assignments, X, y, cv):\n",
    "    '''\n",
    "    \n",
    "    Inputs:\n",
    "    assignments = suggested parameters from SigOpt\n",
    "    X and y matrices\n",
    "    cv = cross-validation scheme\n",
    "    \n",
    "    Returns: mean and std of cv accuracies\n",
    "    '''\n",
    "    classifier = RandomForestClassifier(n_estimators = assignments['n_estimators'],\n",
    "                                        max_features = assignments['max_features'], \n",
    "                                        min_samples_leaf = assignments['min_samples_leaf'],\n",
    "                                        criterion = assignments['criterion'],\n",
    "                                        class_weight = assignments['class_weight'],\n",
    "                                        random_state = 123,\n",
    "                                       )\n",
    "    cv_accuracies = cross_val_score(classifier, X, y, cv = cv)\n",
    "    return (np.mean(cv_accuracies), np.std(cv_accuracies))"
   ]
  },
  {
   "cell_type": "code",
   "execution_count": null,
   "metadata": {
    "collapsed": true
   },
   "outputs": [],
   "source": [
    "for _ in range(20):\n",
    "    # Receive a Suggestion from SigOpt\n",
    "    suggestion = conn.experiments(experiment.id).suggestions().create()\n",
    "\n",
    "    # Evaluate the model locally\n",
    "    (value, std) = evaluate_model(suggestion.assignments, X_matrix, y_vector, cv)\n",
    "\n",
    "    # Report an Observation (with standard deviation) back to SigOpt\n",
    "    _ = conn.experiments(experiment.id).observations().create(\n",
    "        suggestion=suggestion.id,\n",
    "        value=value,\n",
    "        value_stddev=std,\n",
    "    );"
   ]
  },
  {
   "cell_type": "code",
   "execution_count": 60,
   "metadata": {},
   "outputs": [
    {
     "data": {
      "text/plain": [
       "Assignments({\n",
       "  \"class_weight\": \"balanced_subsample\",\n",
       "  \"criterion\": \"entropy\",\n",
       "  \"max_features\": 102,\n",
       "  \"min_samples_leaf\": 1,\n",
       "  \"n_estimators\": 500\n",
       "})"
      ]
     },
     "execution_count": 60,
     "metadata": {},
     "output_type": "execute_result"
    }
   ],
   "source": [
    "# Re-fetch the best observed value and assignments\n",
    "best_assignments = conn.experiments(experiment.id).best_assignments().fetch().data[0].assignments\n",
    "best_assignments"
   ]
  },
  {
   "cell_type": "code",
   "execution_count": 7,
   "metadata": {
    "collapsed": true
   },
   "outputs": [],
   "source": [
    "rf_1 = RandomForestClassifier(n_estimators = 500,\n",
    "                              #changed to None because number of features changed from initial training\n",
    "                              max_features = None, \n",
    "                              min_samples_leaf = 1,\n",
    "                              class_weight = 'balanced_subsample',\n",
    "                              criterion = 'entropy',\n",
    "                              random_state = 123)"
   ]
  },
  {
   "cell_type": "markdown",
   "metadata": {},
   "source": [
    "## High-cardinal variables\n",
    "\n",
    "As already noted, there are 65 distinct categories for the state house district variable. Combined with the categories from the other nominal variables results in 87 dummy coded variables and a much higher-dimension dataset than we originally started with. This is especially problematic for tree-based models, as the sparseness of the feature space makes it difficult to achieve a good fitting model. \n",
    "\n",
    "To incorporate these predictors without having to worry about this problem, we can transform the variables with more than 5 categories to continuous variables using either supervised ratio (SR) or weight of evidence (WOE) (see [here](http://www.kdnuggets.com/2016/08/include-high-cardinality-attributes-predictive-model.html)). Therefore race, state_house and congress_district are transformed. Although race and congress_district do not have a large number of categories (11 and 6, respectively), because there are only 16 predictors total, coding these two predictors as factors would still mean over half the predictors are dummy variables."
   ]
  },
  {
   "cell_type": "code",
   "execution_count": 8,
   "metadata": {
    "collapsed": true
   },
   "outputs": [],
   "source": [
    "#total number of those who did or did not vote\n",
    "voted_counts = train_imp['voted'].value_counts()\n",
    "\n",
    "card_cols = ['congress_district', 'state_house', 'race']\n",
    "ratios = []\n",
    "woes = []\n",
    "for i in card_cols:\n",
    "    sr, woe = wv.transform_to_continuous(train_imp, i, voted_counts)\n",
    "    ratios.append(sr)\n",
    "    woes.append(woe)\n",
    "\n",
    "train_ratio = wv.create_card_df(train_imp, card_cols, ratios)\n",
    "train_woe = wv.create_card_df(train_imp, card_cols, woes)"
   ]
  },
  {
   "cell_type": "markdown",
   "metadata": {},
   "source": [
    "To check whether SR and WOE result in similar transformations, let's plot the two transformations against one another. Although they are on different scales, the transformations if done properly should result in a 1:1 relationship."
   ]
  },
  {
   "cell_type": "code",
   "execution_count": 9,
   "metadata": {},
   "outputs": [
    {
     "data": {
      "image/png": "[encoded data removed]",
      "text/plain": [
       "<matplotlib.figure.Figure at 0x115343400>"
      ]
     },
     "metadata": {},
     "output_type": "display_data"
    },
    {
     "data": {
      "image/png": "[encoded data removed]",
      "text/plain": [
       "<matplotlib.figure.Figure at 0x11afe17f0>"
      ]
     },
     "metadata": {},
     "output_type": "display_data"
    },
    {
     "data": {
      "image/png": "[encoded data removed]",
      "text/plain": [
       "<matplotlib.figure.Figure at 0x1154d2b00>"
      ]
     },
     "metadata": {},
     "output_type": "display_data"
    }
   ],
   "source": [
    "for col in card_cols:\n",
    "    fig, ax = plt.subplots()\n",
    "    fig.set_size_inches(5, 5);\n",
    "    _ = plt.plot(train_ratio[col], train_woe[col], 'o');\n",
    "    _ = plt.title(col);"
   ]
  },
  {
   "cell_type": "markdown",
   "metadata": {},
   "source": [
    "We can also investigate the distribution of the transformed variables. Values of a cardinal variable associated with an above average likelihood of voting will have a positive WOE transformation, while those with a less than average likelihood of voting will have negative transformations."
   ]
  },
  {
   "cell_type": "code",
   "execution_count": 10,
   "metadata": {},
   "outputs": [
    {
     "data": {
      "image/png": "[encoded data removed]",
      "text/plain": [
       "<matplotlib.figure.Figure at 0x11739d9e8>"
      ]
     },
     "metadata": {},
     "output_type": "display_data"
    },
    {
     "data": {
      "image/png": "[encoded data removed]",
      "text/plain": [
       "<matplotlib.figure.Figure at 0x119daf160>"
      ]
     },
     "metadata": {},
     "output_type": "display_data"
    },
    {
     "data": {
      "image/png": "[encoded data removed]",
      "text/plain": [
       "<matplotlib.figure.Figure at 0x11a0e4f28>"
      ]
     },
     "metadata": {},
     "output_type": "display_data"
    }
   ],
   "source": [
    "for col in card_cols:\n",
    "    fig, ax = plt.subplots()\n",
    "    fig.set_size_inches(5, 5);\n",
    "    _ = plt.hist(train_woe[col], bins = 20);\n",
    "    _ = plt.title(col);"
   ]
  },
  {
   "cell_type": "markdown",
   "metadata": {},
   "source": [
    "We can see that for all variables, the majority of categories are neither more associated with voting or not voting, although there are a few categories above or below average, especially for state_house.\n",
    "\n",
    "We are now ready to train and test our classifiers."
   ]
  },
  {
   "cell_type": "markdown",
   "metadata": {},
   "source": [
    "## Training random forest models\n",
    "\n",
    "Let's first train the random forest whose hyperparameters we tuned using SigOpt and test its performance on the following design matrices (4 total):\n",
    "\n",
    "1. SR vs. WOE transformation of cardinal variables + imputed data\n",
    "2. SR vs. WOE transformation without imputed data"
   ]
  },
  {
   "cell_type": "code",
   "execution_count": 11,
   "metadata": {
    "collapsed": true
   },
   "outputs": [],
   "source": [
    "quant_card, categ_card = wv.get_cols(train_ratio)\n",
    "quant_card_nodist = quant_card.copy()\n",
    "quant_card_nodist.remove('dist_ballot')\n",
    "quant_card_nodist.remove('dist_poll')"
   ]
  },
  {
   "cell_type": "code",
   "execution_count": 12,
   "metadata": {
    "collapsed": true
   },
   "outputs": [],
   "source": [
    "#supervised ratio + imputed data\n",
    "X_ratio_imputed = wv.design_Xmatrix(train_ratio, quant_card, categ_card, standardize = True)\n",
    "\n",
    "#supervised ratio, no imputed data\n",
    "X_ratio = wv.design_Xmatrix(train_ratio, quant_card_nodist, categ_card, standardize = True)\n",
    "\n",
    "#woe + imputed data\n",
    "X_woe_imputed = wv.design_Xmatrix(train_woe, quant_card, categ_card, standardize = True)\n",
    "\n",
    "#woe, no imputed data\n",
    "X_woe = wv.design_Xmatrix(train_woe, quant_card_nodist, categ_card, standardize = True)"
   ]
  },
  {
   "cell_type": "code",
   "execution_count": 812,
   "metadata": {},
   "outputs": [
    {
     "data": {
      "text/plain": [
       "(-0.56585201611143254, 0.0043669852965324309)"
      ]
     },
     "execution_count": 812,
     "metadata": {},
     "output_type": "execute_result"
    },
    {
     "data": {
      "text/plain": [
       "(-0.56475857501580007, 0.0040639826944698131)"
      ]
     },
     "execution_count": 812,
     "metadata": {},
     "output_type": "execute_result"
    },
    {
     "data": {
      "text/plain": [
       "(-0.56716838753077814, 0.0038353064465207077)"
      ]
     },
     "execution_count": 812,
     "metadata": {},
     "output_type": "execute_result"
    },
    {
     "data": {
      "text/plain": [
       "(-0.56475814157433202, 0.0040644929405302078)"
      ]
     },
     "execution_count": 812,
     "metadata": {},
     "output_type": "execute_result"
    },
    {
     "data": {
      "text/plain": [
       "(-0.56716748168974784, 0.0038373713667522579)"
      ]
     },
     "execution_count": 812,
     "metadata": {},
     "output_type": "execute_result"
    }
   ],
   "source": [
    "Xs = [X_matrix, X_ratio_imputed, X_ratio, X_woe_imputed, X_woe]\n",
    "\n",
    "for X in Xs:\n",
    "    wv.cross_val_LL(rf_1, X, y_vector, cv)"
   ]
  },
  {
   "cell_type": "markdown",
   "metadata": {},
   "source": [
    "The log-loss scores are relatively similar, although the best scores come from the models trained on the transformed predictors (X_ratio_imputed and X_woe_imputed). The most principled method would be to tune hyperparameters for each design matrix and compare the resulting log-losses, but for time considerations we will use the random forest trained on the imputed and WOE transformed design matrix for our first submission.\n",
    "\n",
    "Let's load the test set and transform the cardinal variables using the WOE method."
   ]
  },
  {
   "cell_type": "code",
   "execution_count": 13,
   "metadata": {},
   "outputs": [
    {
     "data": {
      "text/html": [
       "<div>\n",
       "<table border=\"1\" class=\"dataframe\">\n",
       "  <thead>\n",
       "    <tr style=\"text-align: right;\">\n",
       "      <th></th>\n",
       "      <th>gender</th>\n",
       "      <th>congress_district</th>\n",
       "      <th>state_house</th>\n",
       "      <th>age</th>\n",
       "      <th>party</th>\n",
       "      <th>race</th>\n",
       "      <th>hs_only</th>\n",
       "      <th>married</th>\n",
       "      <th>children</th>\n",
       "      <th>cath</th>\n",
       "      <th>evang</th>\n",
       "      <th>non_chrst</th>\n",
       "      <th>other_chrst</th>\n",
       "      <th>days_reg</th>\n",
       "      <th>dist_ballot</th>\n",
       "      <th>dist_poll</th>\n",
       "      <th>Id</th>\n",
       "    </tr>\n",
       "  </thead>\n",
       "  <tbody>\n",
       "    <tr>\n",
       "      <th>0</th>\n",
       "      <td>M</td>\n",
       "      <td>2</td>\n",
       "      <td>52</td>\n",
       "      <td>30</td>\n",
       "      <td>L</td>\n",
       "      <td>Caucasian</td>\n",
       "      <td>19.5</td>\n",
       "      <td>21.2</td>\n",
       "      <td>25.3</td>\n",
       "      <td>9.8</td>\n",
       "      <td>16.6</td>\n",
       "      <td>45.2</td>\n",
       "      <td>28.4</td>\n",
       "      <td>393</td>\n",
       "      <td>2.521099</td>\n",
       "      <td>2.770852</td>\n",
       "      <td>1</td>\n",
       "    </tr>\n",
       "    <tr>\n",
       "      <th>1</th>\n",
       "      <td>F</td>\n",
       "      <td>5</td>\n",
       "      <td>19</td>\n",
       "      <td>20</td>\n",
       "      <td>U</td>\n",
       "      <td>Caucasian</td>\n",
       "      <td>39.7</td>\n",
       "      <td>20.2</td>\n",
       "      <td>29.1</td>\n",
       "      <td>12.0</td>\n",
       "      <td>14.4</td>\n",
       "      <td>41.4</td>\n",
       "      <td>32.2</td>\n",
       "      <td>668</td>\n",
       "      <td>3.143472</td>\n",
       "      <td>3.972788</td>\n",
       "      <td>2</td>\n",
       "    </tr>\n",
       "    <tr>\n",
       "      <th>2</th>\n",
       "      <td>M</td>\n",
       "      <td>4</td>\n",
       "      <td>44</td>\n",
       "      <td>56</td>\n",
       "      <td>R</td>\n",
       "      <td>Caucasian</td>\n",
       "      <td>11.3</td>\n",
       "      <td>62.7</td>\n",
       "      <td>41.3</td>\n",
       "      <td>14.8</td>\n",
       "      <td>14.7</td>\n",
       "      <td>36.0</td>\n",
       "      <td>34.6</td>\n",
       "      <td>606</td>\n",
       "      <td>2.736109</td>\n",
       "      <td>2.859035</td>\n",
       "      <td>3</td>\n",
       "    </tr>\n",
       "    <tr>\n",
       "      <th>3</th>\n",
       "      <td>F</td>\n",
       "      <td>7</td>\n",
       "      <td>34</td>\n",
       "      <td>20</td>\n",
       "      <td>R</td>\n",
       "      <td>Caucasian</td>\n",
       "      <td>32.8</td>\n",
       "      <td>11.6</td>\n",
       "      <td>33.1</td>\n",
       "      <td>14.5</td>\n",
       "      <td>10.3</td>\n",
       "      <td>44.6</td>\n",
       "      <td>30.6</td>\n",
       "      <td>565</td>\n",
       "      <td>2.136312</td>\n",
       "      <td>2.329654</td>\n",
       "      <td>4</td>\n",
       "    </tr>\n",
       "    <tr>\n",
       "      <th>4</th>\n",
       "      <td>F</td>\n",
       "      <td>6</td>\n",
       "      <td>41</td>\n",
       "      <td>26</td>\n",
       "      <td>D</td>\n",
       "      <td>Uncoded</td>\n",
       "      <td>10.2</td>\n",
       "      <td>14.7</td>\n",
       "      <td>22.4</td>\n",
       "      <td>8.2</td>\n",
       "      <td>18.4</td>\n",
       "      <td>43.5</td>\n",
       "      <td>29.9</td>\n",
       "      <td>336</td>\n",
       "      <td>2.785245</td>\n",
       "      <td>2.904892</td>\n",
       "      <td>5</td>\n",
       "    </tr>\n",
       "  </tbody>\n",
       "</table>\n",
       "</div>"
      ],
      "text/plain": [
       "  gender congress_district state_house  age party       race  hs_only  \\\n",
       "0      M                 2          52   30     L  Caucasian     19.5   \n",
       "1      F                 5          19   20     U  Caucasian     39.7   \n",
       "2      M                 4          44   56     R  Caucasian     11.3   \n",
       "3      F                 7          34   20     R  Caucasian     32.8   \n",
       "4      F                 6          41   26     D    Uncoded     10.2   \n",
       "\n",
       "   married  children  cath  evang  non_chrst  other_chrst  days_reg  \\\n",
       "0     21.2      25.3   9.8   16.6       45.2         28.4       393   \n",
       "1     20.2      29.1  12.0   14.4       41.4         32.2       668   \n",
       "2     62.7      41.3  14.8   14.7       36.0         34.6       606   \n",
       "3     11.6      33.1  14.5   10.3       44.6         30.6       565   \n",
       "4     14.7      22.4   8.2   18.4       43.5         29.9       336   \n",
       "\n",
       "   dist_ballot  dist_poll  Id  \n",
       "0     2.521099   2.770852   1  \n",
       "1     3.143472   3.972788   2  \n",
       "2     2.736109   2.859035   3  \n",
       "3     2.136312   2.329654   4  \n",
       "4     2.785245   2.904892   5  "
      ]
     },
     "execution_count": 13,
     "metadata": {},
     "output_type": "execute_result"
    }
   ],
   "source": [
    "test_imp = wv.load_data('test_imp.csv', compression = 'gzip')\n",
    "test_imp.head()"
   ]
  },
  {
   "cell_type": "code",
   "execution_count": 14,
   "metadata": {},
   "outputs": [
    {
     "data": {
      "text/plain": [
       "(158039, 16)"
      ]
     },
     "execution_count": 14,
     "metadata": {},
     "output_type": "execute_result"
    },
    {
     "data": {
      "text/html": [
       "<div>\n",
       "<table border=\"1\" class=\"dataframe\">\n",
       "  <thead>\n",
       "    <tr style=\"text-align: right;\">\n",
       "      <th></th>\n",
       "      <th>gender</th>\n",
       "      <th>congress_district</th>\n",
       "      <th>state_house</th>\n",
       "      <th>age</th>\n",
       "      <th>party</th>\n",
       "      <th>race</th>\n",
       "      <th>hs_only</th>\n",
       "      <th>married</th>\n",
       "      <th>children</th>\n",
       "      <th>cath</th>\n",
       "      <th>evang</th>\n",
       "      <th>non_chrst</th>\n",
       "      <th>other_chrst</th>\n",
       "      <th>days_reg</th>\n",
       "      <th>dist_ballot</th>\n",
       "      <th>dist_poll</th>\n",
       "    </tr>\n",
       "  </thead>\n",
       "  <tbody>\n",
       "    <tr>\n",
       "      <th>0</th>\n",
       "      <td>M</td>\n",
       "      <td>7</td>\n",
       "      <td>31</td>\n",
       "      <td>36</td>\n",
       "      <td>U</td>\n",
       "      <td>Hispanic</td>\n",
       "      <td>25.4</td>\n",
       "      <td>63.4</td>\n",
       "      <td>54.0</td>\n",
       "      <td>16.7</td>\n",
       "      <td>16.5</td>\n",
       "      <td>39.6</td>\n",
       "      <td>27.3</td>\n",
       "      <td>420</td>\n",
       "      <td>2.658148</td>\n",
       "      <td>3.456541</td>\n",
       "    </tr>\n",
       "    <tr>\n",
       "      <th>1</th>\n",
       "      <td>F</td>\n",
       "      <td>6</td>\n",
       "      <td>38</td>\n",
       "      <td>55</td>\n",
       "      <td>U</td>\n",
       "      <td>Uncoded</td>\n",
       "      <td>7.9</td>\n",
       "      <td>97.8</td>\n",
       "      <td>59.8</td>\n",
       "      <td>16.7</td>\n",
       "      <td>15.5</td>\n",
       "      <td>30.9</td>\n",
       "      <td>36.9</td>\n",
       "      <td>307</td>\n",
       "      <td>2.240415</td>\n",
       "      <td>2.130636</td>\n",
       "    </tr>\n",
       "    <tr>\n",
       "      <th>2</th>\n",
       "      <td>F</td>\n",
       "      <td>2</td>\n",
       "      <td>53</td>\n",
       "      <td>24</td>\n",
       "      <td>U</td>\n",
       "      <td>Caucasian</td>\n",
       "      <td>50.2</td>\n",
       "      <td>7.6</td>\n",
       "      <td>49.5</td>\n",
       "      <td>14.6</td>\n",
       "      <td>24.0</td>\n",
       "      <td>29.6</td>\n",
       "      <td>31.7</td>\n",
       "      <td>292</td>\n",
       "      <td>2.332767</td>\n",
       "      <td>2.872147</td>\n",
       "    </tr>\n",
       "    <tr>\n",
       "      <th>3</th>\n",
       "      <td>F</td>\n",
       "      <td>7</td>\n",
       "      <td>30</td>\n",
       "      <td>25</td>\n",
       "      <td>D</td>\n",
       "      <td>Caucasian</td>\n",
       "      <td>38.0</td>\n",
       "      <td>8.5</td>\n",
       "      <td>47.4</td>\n",
       "      <td>13.1</td>\n",
       "      <td>22.3</td>\n",
       "      <td>33.3</td>\n",
       "      <td>31.4</td>\n",
       "      <td>316</td>\n",
       "      <td>2.983480</td>\n",
       "      <td>3.193841</td>\n",
       "    </tr>\n",
       "    <tr>\n",
       "      <th>4</th>\n",
       "      <td>M</td>\n",
       "      <td>5</td>\n",
       "      <td>19</td>\n",
       "      <td>22</td>\n",
       "      <td>R</td>\n",
       "      <td>Caucasian</td>\n",
       "      <td>30.5</td>\n",
       "      <td>19.1</td>\n",
       "      <td>23.1</td>\n",
       "      <td>16.0</td>\n",
       "      <td>10.5</td>\n",
       "      <td>39.1</td>\n",
       "      <td>34.5</td>\n",
       "      <td>392</td>\n",
       "      <td>3.160107</td>\n",
       "      <td>3.841248</td>\n",
       "    </tr>\n",
       "  </tbody>\n",
       "</table>\n",
       "</div>"
      ],
      "text/plain": [
       "  gender congress_district state_house  age party       race  hs_only  \\\n",
       "0      M                 7          31   36     U   Hispanic     25.4   \n",
       "1      F                 6          38   55     U    Uncoded      7.9   \n",
       "2      F                 2          53   24     U  Caucasian     50.2   \n",
       "3      F                 7          30   25     D  Caucasian     38.0   \n",
       "4      M                 5          19   22     R  Caucasian     30.5   \n",
       "\n",
       "   married  children  cath  evang  non_chrst  other_chrst  days_reg  \\\n",
       "0     63.4      54.0  16.7   16.5       39.6         27.3       420   \n",
       "1     97.8      59.8  16.7   15.5       30.9         36.9       307   \n",
       "2      7.6      49.5  14.6   24.0       29.6         31.7       292   \n",
       "3      8.5      47.4  13.1   22.3       33.3         31.4       316   \n",
       "4     19.1      23.1  16.0   10.5       39.1         34.5       392   \n",
       "\n",
       "   dist_ballot  dist_poll  \n",
       "0     2.658148   3.456541  \n",
       "1     2.240415   2.130636  \n",
       "2     2.332767   2.872147  \n",
       "3     2.983480   3.193841  \n",
       "4     3.160107   3.841248  "
      ]
     },
     "execution_count": 14,
     "metadata": {},
     "output_type": "execute_result"
    }
   ],
   "source": [
    "#drop 'voted' column from train set and 'Id' column from test set and merge\n",
    "all_data = train_imp.drop('voted', axis = 1).append(test_imp.drop('Id', axis = 1))\n",
    "all_data.shape\n",
    "all_data.head()"
   ]
  },
  {
   "cell_type": "markdown",
   "metadata": {},
   "source": [
    "In the training set we replaced each distinct value of the high-cardinal variables based on how often an instance was associated with a person who did or did not vote. We will replace the cardinal variables in the test set with those from the training dataset using WOE transformation."
   ]
  },
  {
   "cell_type": "code",
   "execution_count": 16,
   "metadata": {},
   "outputs": [
    {
     "data": {
      "text/html": [
       "<div>\n",
       "<table border=\"1\" class=\"dataframe\">\n",
       "  <thead>\n",
       "    <tr style=\"text-align: right;\">\n",
       "      <th></th>\n",
       "      <th>congress_district</th>\n",
       "      <th>state_house</th>\n",
       "      <th>age</th>\n",
       "      <th>race</th>\n",
       "      <th>hs_only</th>\n",
       "      <th>married</th>\n",
       "      <th>children</th>\n",
       "      <th>cath</th>\n",
       "      <th>evang</th>\n",
       "      <th>non_chrst</th>\n",
       "      <th>other_chrst</th>\n",
       "      <th>days_reg</th>\n",
       "      <th>dist_ballot</th>\n",
       "      <th>dist_poll</th>\n",
       "      <th>gender_M</th>\n",
       "      <th>gender_U</th>\n",
       "      <th>party_G</th>\n",
       "      <th>party_L</th>\n",
       "      <th>party_O</th>\n",
       "      <th>party_R</th>\n",
       "      <th>party_U</th>\n",
       "    </tr>\n",
       "  </thead>\n",
       "  <tbody>\n",
       "    <tr>\n",
       "      <th>39505</th>\n",
       "      <td>0.072158</td>\n",
       "      <td>0.632641</td>\n",
       "      <td>1.295414</td>\n",
       "      <td>0.335624</td>\n",
       "      <td>0.928300</td>\n",
       "      <td>0.158591</td>\n",
       "      <td>-0.283506</td>\n",
       "      <td>0.521830</td>\n",
       "      <td>2.186790</td>\n",
       "      <td>-1.508472</td>\n",
       "      <td>-0.356047</td>\n",
       "      <td>-1.445074</td>\n",
       "      <td>-0.439574</td>\n",
       "      <td>-0.278821</td>\n",
       "      <td>0</td>\n",
       "      <td>0</td>\n",
       "      <td>0</td>\n",
       "      <td>0</td>\n",
       "      <td>0</td>\n",
       "      <td>0</td>\n",
       "      <td>0</td>\n",
       "    </tr>\n",
       "    <tr>\n",
       "      <th>39506</th>\n",
       "      <td>1.242733</td>\n",
       "      <td>0.782801</td>\n",
       "      <td>-1.001241</td>\n",
       "      <td>0.335624</td>\n",
       "      <td>2.783143</td>\n",
       "      <td>-1.184228</td>\n",
       "      <td>0.415447</td>\n",
       "      <td>0.148974</td>\n",
       "      <td>1.551485</td>\n",
       "      <td>-1.108965</td>\n",
       "      <td>0.178138</td>\n",
       "      <td>-1.362826</td>\n",
       "      <td>-0.413931</td>\n",
       "      <td>-0.128204</td>\n",
       "      <td>0</td>\n",
       "      <td>0</td>\n",
       "      <td>0</td>\n",
       "      <td>0</td>\n",
       "      <td>0</td>\n",
       "      <td>1</td>\n",
       "      <td>0</td>\n",
       "    </tr>\n",
       "    <tr>\n",
       "      <th>39507</th>\n",
       "      <td>1.242733</td>\n",
       "      <td>0.868673</td>\n",
       "      <td>0.529862</td>\n",
       "      <td>-2.425627</td>\n",
       "      <td>-1.080555</td>\n",
       "      <td>0.736793</td>\n",
       "      <td>1.522122</td>\n",
       "      <td>-0.698427</td>\n",
       "      <td>-1.516573</td>\n",
       "      <td>1.478321</td>\n",
       "      <td>-0.436175</td>\n",
       "      <td>-0.677424</td>\n",
       "      <td>-0.623841</td>\n",
       "      <td>-0.687215</td>\n",
       "      <td>1</td>\n",
       "      <td>0</td>\n",
       "      <td>0</td>\n",
       "      <td>0</td>\n",
       "      <td>0</td>\n",
       "      <td>0</td>\n",
       "      <td>0</td>\n",
       "    </tr>\n",
       "    <tr>\n",
       "      <th>39508</th>\n",
       "      <td>-2.080612</td>\n",
       "      <td>-0.538028</td>\n",
       "      <td>-1.065037</td>\n",
       "      <td>-2.425627</td>\n",
       "      <td>1.892551</td>\n",
       "      <td>-1.155792</td>\n",
       "      <td>-0.696083</td>\n",
       "      <td>6.673957</td>\n",
       "      <td>-0.788297</td>\n",
       "      <td>-1.898467</td>\n",
       "      <td>-3.854962</td>\n",
       "      <td>-0.037715</td>\n",
       "      <td>-0.594482</td>\n",
       "      <td>-0.759875</td>\n",
       "      <td>0</td>\n",
       "      <td>0</td>\n",
       "      <td>0</td>\n",
       "      <td>0</td>\n",
       "      <td>0</td>\n",
       "      <td>0</td>\n",
       "      <td>1</td>\n",
       "    </tr>\n",
       "    <tr>\n",
       "      <th>39509</th>\n",
       "      <td>-2.080612</td>\n",
       "      <td>-0.005997</td>\n",
       "      <td>-1.065037</td>\n",
       "      <td>0.335624</td>\n",
       "      <td>1.350160</td>\n",
       "      <td>-0.865111</td>\n",
       "      <td>-0.739767</td>\n",
       "      <td>-0.376415</td>\n",
       "      <td>-0.245963</td>\n",
       "      <td>0.441505</td>\n",
       "      <td>-0.222501</td>\n",
       "      <td>1.159454</td>\n",
       "      <td>-0.550899</td>\n",
       "      <td>-0.673335</td>\n",
       "      <td>1</td>\n",
       "      <td>0</td>\n",
       "      <td>0</td>\n",
       "      <td>0</td>\n",
       "      <td>0</td>\n",
       "      <td>0</td>\n",
       "      <td>1</td>\n",
       "    </tr>\n",
       "  </tbody>\n",
       "</table>\n",
       "</div>"
      ],
      "text/plain": [
       "       congress_district  state_house       age      race   hs_only   married  \\\n",
       "39505           0.072158     0.632641  1.295414  0.335624  0.928300  0.158591   \n",
       "39506           1.242733     0.782801 -1.001241  0.335624  2.783143 -1.184228   \n",
       "39507           1.242733     0.868673  0.529862 -2.425627 -1.080555  0.736793   \n",
       "39508          -2.080612    -0.538028 -1.065037 -2.425627  1.892551 -1.155792   \n",
       "39509          -2.080612    -0.005997 -1.065037  0.335624  1.350160 -0.865111   \n",
       "\n",
       "       children      cath     evang  non_chrst  other_chrst  days_reg  \\\n",
       "39505 -0.283506  0.521830  2.186790  -1.508472    -0.356047 -1.445074   \n",
       "39506  0.415447  0.148974  1.551485  -1.108965     0.178138 -1.362826   \n",
       "39507  1.522122 -0.698427 -1.516573   1.478321    -0.436175 -0.677424   \n",
       "39508 -0.696083  6.673957 -0.788297  -1.898467    -3.854962 -0.037715   \n",
       "39509 -0.739767 -0.376415 -0.245963   0.441505    -0.222501  1.159454   \n",
       "\n",
       "       dist_ballot  dist_poll  gender_M  gender_U  party_G  party_L  party_O  \\\n",
       "39505    -0.439574  -0.278821         0         0        0        0        0   \n",
       "39506    -0.413931  -0.128204         0         0        0        0        0   \n",
       "39507    -0.623841  -0.687215         1         0        0        0        0   \n",
       "39508    -0.594482  -0.759875         0         0        0        0        0   \n",
       "39509    -0.550899  -0.673335         1         0        0        0        0   \n",
       "\n",
       "       party_R  party_U  \n",
       "39505        0        0  \n",
       "39506        1        0  \n",
       "39507        0        0  \n",
       "39508        0        1  \n",
       "39509        0        1  "
      ]
     },
     "execution_count": 16,
     "metadata": {},
     "output_type": "execute_result"
    }
   ],
   "source": [
    "all_woe = wv.create_card_df(all_data, card_cols, woes)\n",
    "\n",
    "#create a df \n",
    "X_df = wv.design_Xmatrix(all_woe, quant_card, categ_card, standardize = True, matrix = False)\n",
    "X_df.tail()"
   ]
  },
  {
   "cell_type": "code",
   "execution_count": 18,
   "metadata": {},
   "outputs": [
    {
     "data": {
      "text/plain": [
       "(118529, 17)"
      ]
     },
     "execution_count": 18,
     "metadata": {},
     "output_type": "execute_result"
    },
    {
     "data": {
      "text/plain": [
       "(39510, 17)"
      ]
     },
     "execution_count": 18,
     "metadata": {},
     "output_type": "execute_result"
    }
   ],
   "source": [
    "train_imp.shape\n",
    "test_imp.shape"
   ]
  },
  {
   "cell_type": "code",
   "execution_count": 19,
   "metadata": {
    "collapsed": true
   },
   "outputs": [],
   "source": [
    "X_train_full = X_df.iloc[:118529, ].as_matrix()\n",
    "X_test_full = X_df.iloc[118529:, ].as_matrix()"
   ]
  },
  {
   "cell_type": "markdown",
   "metadata": {},
   "source": [
    "**Note:** Although all submissions were trained and tested on the set where standardization was performed using both the test and train set, in retrospect, the test set should have been standardized *separately* from the training set to assess the full predictive performance of the models."
   ]
  },
  {
   "cell_type": "code",
   "execution_count": 20,
   "metadata": {},
   "outputs": [
    {
     "data": {
      "text/html": [
       "<div>\n",
       "<table border=\"1\" class=\"dataframe\">\n",
       "  <thead>\n",
       "    <tr style=\"text-align: right;\">\n",
       "      <th></th>\n",
       "      <th>Id</th>\n",
       "      <th>voted</th>\n",
       "    </tr>\n",
       "  </thead>\n",
       "  <tbody>\n",
       "    <tr>\n",
       "      <th>0</th>\n",
       "      <td>1</td>\n",
       "      <td>0.626</td>\n",
       "    </tr>\n",
       "    <tr>\n",
       "      <th>1</th>\n",
       "      <td>2</td>\n",
       "      <td>0.558</td>\n",
       "    </tr>\n",
       "    <tr>\n",
       "      <th>2</th>\n",
       "      <td>3</td>\n",
       "      <td>0.764</td>\n",
       "    </tr>\n",
       "    <tr>\n",
       "      <th>3</th>\n",
       "      <td>4</td>\n",
       "      <td>0.526</td>\n",
       "    </tr>\n",
       "    <tr>\n",
       "      <th>4</th>\n",
       "      <td>5</td>\n",
       "      <td>0.864</td>\n",
       "    </tr>\n",
       "  </tbody>\n",
       "</table>\n",
       "</div>"
      ],
      "text/plain": [
       "   Id  voted\n",
       "0   1  0.626\n",
       "1   2  0.558\n",
       "2   3  0.764\n",
       "3   4  0.526\n",
       "4   5  0.864"
      ]
     },
     "execution_count": 20,
     "metadata": {},
     "output_type": "execute_result"
    }
   ],
   "source": [
    "rf_1_fit = rf_1.fit(X_train_full, y_vector)\n",
    "series_id = test_imp['Id']\n",
    "to_submit = wv.for_submission(rf_1_fit, X_test_full, series_id, 1)\n",
    "to_submit.head()"
   ]
  },
  {
   "cell_type": "markdown",
   "metadata": {},
   "source": [
    "This first submission resulted in a log-loss score of 0.56252 on the public leaderboard and a score of 0.56227 on the private leaderboard. For brevity and clarity submissions that did not result in improved log-loss scores relative to previous submissions will be omitted from this notebook, as they mainly involved tuning of hyperparameters."
   ]
  },
  {
   "cell_type": "markdown",
   "metadata": {},
   "source": [
    "## Training logistic regression\n",
    "\n",
    "For binary response predictions, logistic regression also often performs well."
   ]
  },
  {
   "cell_type": "code",
   "execution_count": 21,
   "metadata": {
    "collapsed": true
   },
   "outputs": [],
   "source": [
    "#re-define cv splits with shuffle = True\n",
    "kfold = StratifiedKFold(n_splits = 11, shuffle = True, random_state = 7)"
   ]
  },
  {
   "cell_type": "code",
   "execution_count": 22,
   "metadata": {},
   "outputs": [
    {
     "data": {
      "text/plain": [
       "GridSearchCV(cv=StratifiedKFold(n_splits=11, random_state=7, shuffle=True),\n",
       "       error_score='raise',\n",
       "       estimator=LogisticRegression(C=1.0, class_weight=None, dual=False, fit_intercept=True,\n",
       "          intercept_scaling=1, max_iter=100, multi_class='ovr', n_jobs=1,\n",
       "          penalty='l2', random_state=7, solver='liblinear', tol=0.0001,\n",
       "          verbose=0, warm_start=False),\n",
       "       fit_params={}, iid=True, n_jobs=1,\n",
       "       param_grid={'C': [0.001, 0.01, 0.1, 1, 10, 100, 1000]},\n",
       "       pre_dispatch='2*n_jobs', refit=True, return_train_score=True,\n",
       "       scoring='neg_log_loss', verbose=0)"
      ]
     },
     "execution_count": 22,
     "metadata": {},
     "output_type": "execute_result"
    },
    {
     "data": {
      "text/plain": [
       "{'C': 0.1}"
      ]
     },
     "execution_count": 22,
     "metadata": {},
     "output_type": "execute_result"
    }
   ],
   "source": [
    "param_grid = {'C': [0.001, 0.01, 0.1, 1, 10, 100, 1000]}\n",
    "clf = GridSearchCV(LogisticRegression(random_state = 7), \n",
    "                   param_grid, scoring = 'neg_log_loss', cv = kfold)\n",
    "clf.fit(X_woe_imputed, y_vector)\n",
    "\n",
    "clf.best_params_"
   ]
  },
  {
   "cell_type": "code",
   "execution_count": 23,
   "metadata": {},
   "outputs": [
    {
     "data": {
      "text/plain": [
       "(-0.56823770024757259, 0.0035349868155999968)"
      ]
     },
     "execution_count": 23,
     "metadata": {},
     "output_type": "execute_result"
    }
   ],
   "source": [
    "logit = LogisticRegression(random_state = 7, C = 0.1)\n",
    "wv.cross_val_LL(logit, X_woe_imputed, y_vector, kfold)"
   ]
  },
  {
   "cell_type": "markdown",
   "metadata": {},
   "source": [
    "The performance of logistic regression can suffer more from inclusion of extraneous or highly correlated variables. Let's examine the correlation matrix again."
   ]
  },
  {
   "cell_type": "code",
   "execution_count": 232,
   "metadata": {},
   "outputs": [
    {
     "data": {
      "image/png": "[encoded data removed]",
      "text/plain": [
       "<matplotlib.figure.Figure at 0x1120ccb70>"
      ]
     },
     "metadata": {},
     "output_type": "display_data"
    }
   ],
   "source": [
    "fig, ax = plt.subplots()\n",
    "fig.set_size_inches(7, 6);\n",
    "sns.heatmap(train_woe.corr());"
   ]
  },
  {
   "cell_type": "markdown",
   "metadata": {},
   "source": [
    "Let's test whether removing certain correlated predictors improves performance of logistic regression."
   ]
  },
  {
   "cell_type": "code",
   "execution_count": 141,
   "metadata": {
    "collapsed": true
   },
   "outputs": [],
   "source": [
    "cols_remove = ['congress_district', 'age', 'dist_poll', 'non_chrst', 'other_chrst']\n",
    "train_no_corr = train_woe.drop(cols_remove, axis = 1)\n",
    "\n",
    "quant_corr, categ_corr = wv.get_cols(train_no_corr)\n",
    "X_no_corr = wv.design_Xmatrix(train_no_corr, quant_corr, categ_corr,\n",
    "                             standardize = True)"
   ]
  },
  {
   "cell_type": "code",
   "execution_count": 142,
   "metadata": {},
   "outputs": [
    {
     "data": {
      "text/plain": [
       "(-0.56864956169628467, 0.00354391352181419)"
      ]
     },
     "execution_count": 142,
     "metadata": {},
     "output_type": "execute_result"
    }
   ],
   "source": [
    "wv.cross_val_LL(logit, X_no_corr, y_vector, kfold)"
   ]
  },
  {
   "cell_type": "markdown",
   "metadata": {},
   "source": [
    "The log-loss score when the 5 most correlated features are eliminated is higher than when all the features are included. Although we could potentially get a lower log-loss by testing different combinations of predictors, it does not seem like logistic regression on this dataset is likely to perform better than random forest. This is probably due to the non-linear relationships we saw in the pairplot in [part 1](who_voted_EDA.ipynb)."
   ]
  },
  {
   "cell_type": "markdown",
   "metadata": {},
   "source": [
    "## Gradient boosted trees\n",
    "\n",
    "Although random forests are generally good out-of-the-box classifiers, it is known that gradient boosted trees often outperform random forests. As opposed to random forests, which grow full decision trees trained on bootstrapped (and ideally highly uncorrelated) subsamples of the data, gradient boosted trees are an ensemble of weak learners, each of which is trained on the errors of the previous tree. Hyperparameter tuning is particularly important for these models. We start by tuning the maximum depth of the individual trees, total number of trees, the learning rate and gamma (both of which control model complexity and therefore can help prevent overfitting)."
   ]
  },
  {
   "cell_type": "code",
   "execution_count": 28,
   "metadata": {},
   "outputs": [
    {
     "name": "stdout",
     "output_type": "stream",
     "text": [
      "Created experiment: https://sigopt.com/experiment/18408\n"
     ]
    }
   ],
   "source": [
    "#create SigOpt experiment\n",
    "experiment = conn.experiments().create(\n",
    "  name='Who voted?',\n",
    "  parameters=[\n",
    "    dict(name='max_depth', type='int', bounds=dict(min=1, max=9)),\n",
    "    dict(name='n_estimators', type='int', bounds=dict(min=50, max=500)),\n",
    "    dict(name='learning_rate', type='double', bounds=dict(min=0.001, max=0.3)),\n",
    "    dict(name='gamma', type='double', bounds=dict(min=0, max=10))\n",
    "  ]\n",
    ")\n",
    "print(\"Created experiment: https://sigopt.com/experiment/\" + experiment.id)"
   ]
  },
  {
   "cell_type": "code",
   "execution_count": 34,
   "metadata": {
    "collapsed": true
   },
   "outputs": [],
   "source": [
    "def evaluate_model(assignments, X, y, cv):\n",
    "    '''\n",
    "    Evaluates different Random Forest models with different hyperparameters.\n",
    "    \n",
    "    Inputs:\n",
    "    assignments = suggested parameters from SigOpt\n",
    "    X and y matrices\n",
    "    cv = cross-validation scheme\n",
    "    \n",
    "    Returns: mean and std of cv log loss\n",
    "    '''\n",
    "    classifier = XGBClassifier(max_depth = assignments['max_depth'],\n",
    "                               n_estimators = assignments['n_estimators'],\n",
    "                               learning_rate = assignments['learning_rate'],\n",
    "                               gamma = assignments['gamma'],\n",
    "                               seed = 7)\n",
    "    cv_LL = cross_val_score(classifier, X, y, cv = kfold, scoring = 'neg_log_loss')\n",
    "    return (np.mean(cv_LL), np.std(cv_LL))"
   ]
  },
  {
   "cell_type": "code",
   "execution_count": 35,
   "metadata": {},
   "outputs": [
    {
     "data": {
      "text/plain": [
       "Assignments({\n",
       "  \"gamma\": 3.3285290509838568,\n",
       "  \"learning_rate\": 0.08654237617740236,\n",
       "  \"max_depth\": 7,\n",
       "  \"n_estimators\": 314\n",
       "})"
      ]
     },
     "execution_count": 35,
     "metadata": {},
     "output_type": "execute_result"
    }
   ],
   "source": [
    "for _ in range(50):\n",
    "    # Receive a Suggestion from SigOpt\n",
    "    suggestion = conn.experiments(experiment.id).suggestions().create()\n",
    "\n",
    "    # Evaluate the model locally\n",
    "    (value, std) = evaluate_model(suggestion.assignments, X_woe_imputed, y_vector, kfold)\n",
    "\n",
    "    # Report an Observation (with standard deviation) back to SigOpt\n",
    "    _ = conn.experiments(experiment.id).observations().create(\n",
    "        suggestion=suggestion.id,\n",
    "        value=value,\n",
    "        value_stddev=std,\n",
    "    );\n",
    "\n",
    "# Re-fetch the best observed value and assignments\n",
    "best_assignments = conn.experiments(experiment.id).best_assignments().fetch().data[0].assignments\n",
    "best_assignments"
   ]
  },
  {
   "cell_type": "code",
   "execution_count": 40,
   "metadata": {},
   "outputs": [
    {
     "data": {
      "text/plain": [
       "BestAssignments({\n",
       "  \"assignments\": {\n",
       "    \"gamma\": 3.3285290509838568,\n",
       "    \"learning_rate\": 0.08654237617740236,\n",
       "    \"max_depth\": 7,\n",
       "    \"n_estimators\": 314\n",
       "  },\n",
       "  \"metadata\": null,\n",
       "  \"value\": -0.5566347742985939,\n",
       "  \"value_stddev\": 0.0034365479004968536,\n",
       "  \"values\": [\n",
       "    {\n",
       "      \"name\": null,\n",
       "      \"object\": \"metric_evaluation\",\n",
       "      \"value\": -0.5566347742985939,\n",
       "      \"value_stddev\": 0.0034365479004968536\n",
       "    }\n",
       "  ]\n",
       "})"
      ]
     },
     "execution_count": 40,
     "metadata": {},
     "output_type": "execute_result"
    }
   ],
   "source": [
    "conn.experiments(experiment.id).best_assignments().fetch().data[0]"
   ]
  },
  {
   "cell_type": "code",
   "execution_count": 25,
   "metadata": {
    "collapsed": true
   },
   "outputs": [],
   "source": [
    "xgb_1 = XGBClassifier(max_depth = 7,\n",
    "                      n_estimators = 314,\n",
    "                      learning_rate = 0.08654237617740236,\n",
    "                      gamma = 3.3285290509838568,\n",
    "                      seed = 7)\n",
    "\n",
    "xgb_1_fit = xgb_1.fit(X_train_full, y_vector)"
   ]
  },
  {
   "cell_type": "code",
   "execution_count": 53,
   "metadata": {},
   "outputs": [
    {
     "data": {
      "text/html": [
       "<div>\n",
       "<table border=\"1\" class=\"dataframe\">\n",
       "  <thead>\n",
       "    <tr style=\"text-align: right;\">\n",
       "      <th></th>\n",
       "      <th>Id</th>\n",
       "      <th>voted</th>\n",
       "    </tr>\n",
       "  </thead>\n",
       "  <tbody>\n",
       "    <tr>\n",
       "      <th>39505</th>\n",
       "      <td>39506</td>\n",
       "      <td>0.829266</td>\n",
       "    </tr>\n",
       "    <tr>\n",
       "      <th>39506</th>\n",
       "      <td>39507</td>\n",
       "      <td>0.853076</td>\n",
       "    </tr>\n",
       "    <tr>\n",
       "      <th>39507</th>\n",
       "      <td>39508</td>\n",
       "      <td>0.849594</td>\n",
       "    </tr>\n",
       "    <tr>\n",
       "      <th>39508</th>\n",
       "      <td>39509</td>\n",
       "      <td>0.445434</td>\n",
       "    </tr>\n",
       "    <tr>\n",
       "      <th>39509</th>\n",
       "      <td>39510</td>\n",
       "      <td>0.505540</td>\n",
       "    </tr>\n",
       "  </tbody>\n",
       "</table>\n",
       "</div>"
      ],
      "text/plain": [
       "          Id     voted\n",
       "39505  39506  0.829266\n",
       "39506  39507  0.853076\n",
       "39507  39508  0.849594\n",
       "39508  39509  0.445434\n",
       "39509  39510  0.505540"
      ]
     },
     "execution_count": 53,
     "metadata": {},
     "output_type": "execute_result"
    }
   ],
   "source": [
    "to_submit3 = wv.for_submission(xgb_1_fit, X_test_full, series_id, 3)\n",
    "to_submit3.tail()"
   ]
  },
  {
   "cell_type": "markdown",
   "metadata": {},
   "source": [
    "This submission resulted in an improved public log-loss of 0.55157 and a private one of 0.55402.\n",
    "\n",
    "Let's add in an L2 regularization term to further reduce variance in the model."
   ]
  },
  {
   "cell_type": "code",
   "execution_count": 57,
   "metadata": {},
   "outputs": [
    {
     "name": "stdout",
     "output_type": "stream",
     "text": [
      "Created experiment: https://sigopt.com/experiment/18468\n"
     ]
    }
   ],
   "source": [
    "#create SigOpt experiment\n",
    "experiment = conn.experiments().create(\n",
    "  name='Who voted?',\n",
    "  parameters=[\n",
    "    dict(name='max_depth', type='int', bounds=dict(min=1, max=9)),\n",
    "    dict(name='n_estimators', type='int', bounds=dict(min=50, max=500)),\n",
    "    dict(name='learning_rate', type='double', bounds=dict(min=0.001, max=0.3)),\n",
    "    dict(name='gamma', type='double', bounds=dict(min=0, max=10)),\n",
    "    dict(name='reg_lambda', type='double', bounds=dict(min=1, max=10))\n",
    "  ]\n",
    ")\n",
    "print(\"Created experiment: https://sigopt.com/experiment/\" + experiment.id)"
   ]
  },
  {
   "cell_type": "code",
   "execution_count": 60,
   "metadata": {
    "collapsed": true
   },
   "outputs": [],
   "source": [
    "def evaluate_model(assignments, X, y, cv):\n",
    "    '''\n",
    "    Evaluates different Random Forest models with different hyperparameters.\n",
    "    \n",
    "    Inputs:\n",
    "    assignments = suggested parameters from SigOpt\n",
    "    X and y matrices\n",
    "    cv = cross-validation scheme\n",
    "    \n",
    "    Returns: mean and std of cv log loss\n",
    "    '''\n",
    "    classifier = XGBClassifier(max_depth = assignments['max_depth'],\n",
    "                               n_estimators = assignments['n_estimators'],\n",
    "                               learning_rate = assignments['learning_rate'],\n",
    "                               gamma = assignments['gamma'],\n",
    "                               reg_lambda = assignments['reg_lambda'],\n",
    "                               seed = 7)\n",
    "    cv_LL = cross_val_score(classifier, X, y, cv = kfold, scoring = 'neg_log_loss')\n",
    "    return (np.mean(cv_LL), np.std(cv_LL))"
   ]
  },
  {
   "cell_type": "code",
   "execution_count": null,
   "metadata": {
    "collapsed": true
   },
   "outputs": [],
   "source": [
    "for _ in range(60):\n",
    "    # Receive a Suggestion from SigOpt\n",
    "    suggestion = conn.experiments(experiment.id).suggestions().create()\n",
    "\n",
    "    # Evaluate the model locally\n",
    "    (value, std) = evaluate_model(suggestion.assignments, X_woe_imputed, y_vector, kfold)\n",
    "\n",
    "    # Report an Observation (with standard deviation) back to SigOpt\n",
    "    _ = conn.experiments(experiment.id).observations().create(\n",
    "        suggestion=suggestion.id,\n",
    "        value=value,\n",
    "        value_stddev=std,\n",
    "    );"
   ]
  },
  {
   "cell_type": "code",
   "execution_count": 62,
   "metadata": {},
   "outputs": [
    {
     "data": {
      "text/plain": [
       "BestAssignments({\n",
       "  \"assignments\": {\n",
       "    \"gamma\": 2.8869657909958493,\n",
       "    \"learning_rate\": 0.03311755173249714,\n",
       "    \"max_depth\": 9,\n",
       "    \"n_estimators\": 358,\n",
       "    \"reg_lambda\": 9.925559973077503\n",
       "  },\n",
       "  \"metadata\": null,\n",
       "  \"value\": -0.5555487877236724,\n",
       "  \"value_stddev\": 0.0034731854503106843,\n",
       "  \"values\": [\n",
       "    {\n",
       "      \"name\": null,\n",
       "      \"object\": \"metric_evaluation\",\n",
       "      \"value\": -0.5555487877236724,\n",
       "      \"value_stddev\": 0.0034731854503106843\n",
       "    }\n",
       "  ]\n",
       "})"
      ]
     },
     "execution_count": 62,
     "metadata": {},
     "output_type": "execute_result"
    },
    {
     "data": {
      "text/plain": [
       "Assignments({\n",
       "  \"gamma\": 2.8869657909958493,\n",
       "  \"learning_rate\": 0.03311755173249714,\n",
       "  \"max_depth\": 9,\n",
       "  \"n_estimators\": 358,\n",
       "  \"reg_lambda\": 9.925559973077503\n",
       "})"
      ]
     },
     "execution_count": 62,
     "metadata": {},
     "output_type": "execute_result"
    }
   ],
   "source": [
    "# Re-fetch the best observed value and assignments\n",
    "conn.experiments(experiment.id).best_assignments().fetch().data[0]\n",
    "best_assignments2 = conn.experiments(experiment.id).best_assignments().fetch().data[0].assignments\n",
    "best_assignments2"
   ]
  },
  {
   "cell_type": "code",
   "execution_count": 26,
   "metadata": {
    "collapsed": true
   },
   "outputs": [],
   "source": [
    "xgb_2 = XGBClassifier(max_depth = 9, \n",
    "                      n_estimators = 358,\n",
    "                      learning_rate = 0.03311755173249714,\n",
    "                      gamma = 2.8869657909958493,\n",
    "                      reg_lambda = 9.925559973077503,\n",
    "                      seed = 7)\n",
    "\n",
    "xgb_2_fit = xgb_2.fit(X_train_full, y_vector)"
   ]
  },
  {
   "cell_type": "code",
   "execution_count": 65,
   "metadata": {
    "scrolled": true
   },
   "outputs": [
    {
     "data": {
      "text/html": [
       "<div>\n",
       "<table border=\"1\" class=\"dataframe\">\n",
       "  <thead>\n",
       "    <tr style=\"text-align: right;\">\n",
       "      <th></th>\n",
       "      <th>Id</th>\n",
       "      <th>voted</th>\n",
       "    </tr>\n",
       "  </thead>\n",
       "  <tbody>\n",
       "    <tr>\n",
       "      <th>39505</th>\n",
       "      <td>39506</td>\n",
       "      <td>0.837693</td>\n",
       "    </tr>\n",
       "    <tr>\n",
       "      <th>39506</th>\n",
       "      <td>39507</td>\n",
       "      <td>0.858705</td>\n",
       "    </tr>\n",
       "    <tr>\n",
       "      <th>39507</th>\n",
       "      <td>39508</td>\n",
       "      <td>0.835815</td>\n",
       "    </tr>\n",
       "    <tr>\n",
       "      <th>39508</th>\n",
       "      <td>39509</td>\n",
       "      <td>0.439149</td>\n",
       "    </tr>\n",
       "    <tr>\n",
       "      <th>39509</th>\n",
       "      <td>39510</td>\n",
       "      <td>0.507000</td>\n",
       "    </tr>\n",
       "  </tbody>\n",
       "</table>\n",
       "</div>"
      ],
      "text/plain": [
       "          Id     voted\n",
       "39505  39506  0.837693\n",
       "39506  39507  0.858705\n",
       "39507  39508  0.835815\n",
       "39508  39509  0.439149\n",
       "39509  39510  0.507000"
      ]
     },
     "execution_count": 65,
     "metadata": {},
     "output_type": "execute_result"
    }
   ],
   "source": [
    "to_submit4 = wv.for_submission(xgb_2_fit, X_test_full, series_id, 4)\n",
    "to_submit4.tail()"
   ]
  },
  {
   "cell_type": "markdown",
   "metadata": {},
   "source": [
    "Adding L2 regularization decreased the public log-loss score to 0.55104 and the private score to 0.55302.\n",
    "\n",
    "Let's tune min_child_weight (number of weights required for a split) and add max_delta_step, which helps fit imbalanced classes, and subsample/colsample_bytree to control the fraction of samples to be sampled for each individual tree."
   ]
  },
  {
   "cell_type": "code",
   "execution_count": 112,
   "metadata": {},
   "outputs": [
    {
     "name": "stdout",
     "output_type": "stream",
     "text": [
      "Created experiment: https://sigopt.com/experiment/18564\n"
     ]
    }
   ],
   "source": [
    "#create SigOpt experiment\n",
    "experiment = conn.experiments().create(\n",
    "  name='Who voted?',\n",
    "  parameters=[\n",
    "    dict(name='max_depth', type='int', bounds=dict(min=3, max=10)),\n",
    "    dict(name='min_child_weight', type='int', bounds=dict(min=1, max=6)),\n",
    "    dict(name='learning_rate', type='double', bounds=dict(min=0.01, max=0.1)),\n",
    "    dict(name='gamma', type='double', bounds=dict(min=1, max=5)),\n",
    "    dict(name='reg_lambda', type='double', bounds=dict(min=3, max=10))\n",
    "  ]\n",
    ")\n",
    "print(\"Created experiment: https://sigopt.com/experiment/\" + experiment.id)"
   ]
  },
  {
   "cell_type": "code",
   "execution_count": 114,
   "metadata": {
    "collapsed": true
   },
   "outputs": [],
   "source": [
    "def evaluate_model(assignments, X, y, cv):\n",
    "    '''\n",
    "    Evaluates different Random Forest models with different hyperparameters.\n",
    "    \n",
    "    Inputs:\n",
    "    assignments = suggested parameters from SigOpt\n",
    "    X and y matrices\n",
    "    cv = cross-validation scheme\n",
    "    \n",
    "    Returns: mean and std of cv log loss\n",
    "    '''\n",
    "    classifier = XGBClassifier(max_depth = assignments['max_depth'],\n",
    "                               n_estimators = 400,\n",
    "                               learning_rate = assignments['learning_rate'],\n",
    "                               min_child_weight = assignments['min_child_weight'],\n",
    "                               gamma = assignments['gamma'],\n",
    "                               max_delta_step = 1,\n",
    "                               subsample = 0.8,\n",
    "                               colsample_bytree = 0.8,\n",
    "                               reg_lambda = assignments['reg_lambda'],\n",
    "                               seed = 7)\n",
    "    cv_LL = cross_val_score(classifier, X, y, cv = kfold, scoring = 'neg_log_loss')\n",
    "    return (np.mean(cv_LL), np.std(cv_LL))"
   ]
  },
  {
   "cell_type": "code",
   "execution_count": 115,
   "metadata": {},
   "outputs": [
    {
     "data": {
      "text/plain": [
       "BestAssignments({\n",
       "  \"assignments\": {\n",
       "    \"gamma\": 1.0,\n",
       "    \"learning_rate\": 0.04753131124690685,\n",
       "    \"max_depth\": 7,\n",
       "    \"min_child_weight\": 1,\n",
       "    \"reg_lambda\": 10.0\n",
       "  },\n",
       "  \"metadata\": null,\n",
       "  \"value\": -0.5545851729767545,\n",
       "  \"value_stddev\": 0.003877853689564293,\n",
       "  \"values\": [\n",
       "    {\n",
       "      \"name\": null,\n",
       "      \"object\": \"metric_evaluation\",\n",
       "      \"value\": -0.5545851729767545,\n",
       "      \"value_stddev\": 0.003877853689564293\n",
       "    }\n",
       "  ]\n",
       "})"
      ]
     },
     "execution_count": 115,
     "metadata": {},
     "output_type": "execute_result"
    }
   ],
   "source": [
    "for _ in range(60):\n",
    "    # Receive a Suggestion from SigOpt\n",
    "    suggestion = conn.experiments(experiment.id).suggestions().create()\n",
    "\n",
    "    # Evaluate the model locally\n",
    "    (value, std) = evaluate_model(suggestion.assignments, X_woe_imputed, y_vector, kfold)\n",
    "\n",
    "    # Report an Observation (with standard deviation) back to SigOpt\n",
    "    _ = conn.experiments(experiment.id).observations().create(\n",
    "        suggestion=suggestion.id,\n",
    "        value=value,\n",
    "        value_stddev=std,\n",
    "    );\n",
    "\n",
    "# Re-fetch the best observed value and assignments\n",
    "conn.experiments(experiment.id).best_assignments().fetch().data[0]\n",
    "best_assignments3 = conn.experiments(experiment.id).best_assignments().fetch().data[0].assignments"
   ]
  },
  {
   "cell_type": "code",
   "execution_count": 27,
   "metadata": {
    "collapsed": true
   },
   "outputs": [],
   "source": [
    "xgb_3 = XGBClassifier(max_depth = 7,\n",
    "                      n_estimators = 400,\n",
    "                      learning_rate = 0.04753131124690685,\n",
    "                      min_child_weight = 1,\n",
    "                      gamma = 1,\n",
    "                      max_delta_step = 1,\n",
    "                      subsample = 0.8,\n",
    "                      colsample_bytree = 0.8,\n",
    "                      reg_lambda = 10,\n",
    "                      seed = 7)\n",
    "\n",
    "xgb_3_fit = xgb_3.fit(X_train_full, y_vector)"
   ]
  },
  {
   "cell_type": "code",
   "execution_count": 118,
   "metadata": {},
   "outputs": [
    {
     "data": {
      "text/html": [
       "<div>\n",
       "<table border=\"1\" class=\"dataframe\">\n",
       "  <thead>\n",
       "    <tr style=\"text-align: right;\">\n",
       "      <th></th>\n",
       "      <th>Id</th>\n",
       "      <th>voted</th>\n",
       "    </tr>\n",
       "  </thead>\n",
       "  <tbody>\n",
       "    <tr>\n",
       "      <th>39505</th>\n",
       "      <td>39506</td>\n",
       "      <td>0.836096</td>\n",
       "    </tr>\n",
       "    <tr>\n",
       "      <th>39506</th>\n",
       "      <td>39507</td>\n",
       "      <td>0.877321</td>\n",
       "    </tr>\n",
       "    <tr>\n",
       "      <th>39507</th>\n",
       "      <td>39508</td>\n",
       "      <td>0.865151</td>\n",
       "    </tr>\n",
       "    <tr>\n",
       "      <th>39508</th>\n",
       "      <td>39509</td>\n",
       "      <td>0.468858</td>\n",
       "    </tr>\n",
       "    <tr>\n",
       "      <th>39509</th>\n",
       "      <td>39510</td>\n",
       "      <td>0.494811</td>\n",
       "    </tr>\n",
       "  </tbody>\n",
       "</table>\n",
       "</div>"
      ],
      "text/plain": [
       "          Id     voted\n",
       "39505  39506  0.836096\n",
       "39506  39507  0.877321\n",
       "39507  39508  0.865151\n",
       "39508  39509  0.468858\n",
       "39509  39510  0.494811"
      ]
     },
     "execution_count": 118,
     "metadata": {},
     "output_type": "execute_result"
    }
   ],
   "source": [
    "to_submit5 = for_submission(xgb_3_fit, X_test_full, series_id, 5)\n",
    "to_submit5.tail()"
   ]
  },
  {
   "cell_type": "markdown",
   "metadata": {},
   "source": [
    "Including more hyperparameters to control overfitting in this model resulted in a public log-loss of 0.55038 and a private log-loss of 0.5526."
   ]
  },
  {
   "cell_type": "markdown",
   "metadata": {},
   "source": [
    "## Comparing classifiers\n",
    "\n",
    "As the first random forest model was trained on the original dataset prior to cardinal variable transformation, let's tune and train a second random forest on the X_woe_imputed data. We can then compare the behavior of all four classifiers.\n",
    "\n",
    "SigOpt limits the number of experiments that can be run, so we can use GridSearch from sklearn."
   ]
  },
  {
   "cell_type": "code",
   "execution_count": 177,
   "metadata": {},
   "outputs": [
    {
     "data": {
      "text/plain": [
       "GridSearchCV(cv=StratifiedKFold(n_splits=11, random_state=7, shuffle=True),\n",
       "       error_score='raise',\n",
       "       estimator=RandomForestClassifier(bootstrap=True, class_weight=None, criterion='gini',\n",
       "            max_depth=None, max_features='auto', max_leaf_nodes=None,\n",
       "            min_impurity_split=1e-07, min_samples_leaf=1,\n",
       "            min_samples_split=2, min_weight_fraction_leaf=0.0,\n",
       "            n_estimators=500, n_jobs=1, oob_score=False, random_state=123,\n",
       "            verbose=0, warm_start=False),\n",
       "       fit_params={}, iid=True, n_jobs=1,\n",
       "       param_grid={'min_samples_leaf': [1, 5, 10, 50, 100, 200, 500], 'max_features': [1, 'auto', 'log2', None]},\n",
       "       pre_dispatch='2*n_jobs', refit=True, return_train_score=True,\n",
       "       scoring='neg_log_loss', verbose=0)"
      ]
     },
     "execution_count": 177,
     "metadata": {},
     "output_type": "execute_result"
    },
    {
     "data": {
      "text/plain": [
       "{'max_features': 'auto', 'min_samples_leaf': 10}"
      ]
     },
     "execution_count": 177,
     "metadata": {},
     "output_type": "execute_result"
    },
    {
     "data": {
      "text/plain": [
       "array([-0.56197653, -0.56278573, -0.56600765, -0.57653708, -0.58268952,\n",
       "       -0.59041719, -0.59845059, -0.56035626, -0.55749748, -0.5572556 ,\n",
       "       -0.55996088, -0.56239156, -0.56519416, -0.56975085, -0.56035626,\n",
       "       -0.55749748, -0.5572556 , -0.55996088, -0.56239156, -0.56519416,\n",
       "       -0.56975085, -0.56877893, -0.56256707, -0.56048994, -0.55947255,\n",
       "       -0.5607711 , -0.5630915 , -0.56758455])"
      ]
     },
     "execution_count": 177,
     "metadata": {},
     "output_type": "execute_result"
    },
    {
     "data": {
      "text/plain": [
       "array([ 0.00359379,  0.00285189,  0.00263128,  0.00215329,  0.00162593,\n",
       "        0.00149089,  0.00096314,  0.00393833,  0.00368591,  0.00353362,\n",
       "        0.00324806,  0.00306728,  0.00297814,  0.00270851,  0.00393833,\n",
       "        0.00368591,  0.00353362,  0.00324806,  0.00306728,  0.00297814,\n",
       "        0.00270851,  0.00456538,  0.00419051,  0.00395729,  0.00376091,\n",
       "        0.0035548 ,  0.00341228,  0.00317142])"
      ]
     },
     "execution_count": 177,
     "metadata": {},
     "output_type": "execute_result"
    }
   ],
   "source": [
    "param_grid_rf = {'min_samples_leaf': [1, 5, 10, 50, 100, 200, 500],\n",
    "                'max_features': [1, 'auto', 'log2', None]}\n",
    "gs = GridSearchCV(RandomForestClassifier(n_estimators = 500, random_state = 7), \n",
    "                  param_grid_rf, scoring = 'neg_log_loss', cv = kfold)\n",
    "\n",
    "gs.fit(X_woe_imputed, y_vector)\n",
    "\n",
    "gs.best_params_\n",
    "gs.cv_results_['mean_test_score']\n",
    "gs.cv_results_['std_test_score']"
   ]
  },
  {
   "cell_type": "code",
   "execution_count": 29,
   "metadata": {
    "collapsed": true
   },
   "outputs": [],
   "source": [
    "rf_2 = RandomForestClassifier(n_estimators = 500, \n",
    "                              max_features = 'auto', \n",
    "                              min_samples_leaf = 10, \n",
    "                              random_state = 7)"
   ]
  },
  {
   "cell_type": "markdown",
   "metadata": {},
   "source": [
    "Let's investigate the distribution of each model's predicted probabilities."
   ]
  },
  {
   "cell_type": "code",
   "execution_count": 33,
   "metadata": {
    "collapsed": true
   },
   "outputs": [],
   "source": [
    "#split into train/test\n",
    "x_train, x_test, y_train, y_test = train_test_split(X_woe_imputed, y_vector, stratify = y_vector)\n",
    "\n",
    "models = [logit, rf_1, rf_2, xgb_3]\n",
    "predictions = []\n",
    "for model in models:\n",
    "    pred = model.fit(x_train, y_train).predict_proba(x_test)\n",
    "    predictions.append(pred)"
   ]
  },
  {
   "cell_type": "code",
   "execution_count": 40,
   "metadata": {},
   "outputs": [
    {
     "data": {
      "text/html": [
       "<div>\n",
       "<table border=\"1\" class=\"dataframe\">\n",
       "  <thead>\n",
       "    <tr style=\"text-align: right;\">\n",
       "      <th></th>\n",
       "      <th>logit</th>\n",
       "      <th>obs</th>\n",
       "      <th>rf_1</th>\n",
       "      <th>rf_2</th>\n",
       "      <th>xgb_3</th>\n",
       "    </tr>\n",
       "  </thead>\n",
       "  <tbody>\n",
       "    <tr>\n",
       "      <th>0</th>\n",
       "      <td>0.647253</td>\n",
       "      <td>1</td>\n",
       "      <td>0.690</td>\n",
       "      <td>0.688660</td>\n",
       "      <td>0.640573</td>\n",
       "    </tr>\n",
       "    <tr>\n",
       "      <th>1</th>\n",
       "      <td>0.789965</td>\n",
       "      <td>0</td>\n",
       "      <td>0.786</td>\n",
       "      <td>0.748904</td>\n",
       "      <td>0.812762</td>\n",
       "    </tr>\n",
       "    <tr>\n",
       "      <th>2</th>\n",
       "      <td>0.810083</td>\n",
       "      <td>1</td>\n",
       "      <td>0.714</td>\n",
       "      <td>0.839133</td>\n",
       "      <td>0.875785</td>\n",
       "    </tr>\n",
       "    <tr>\n",
       "      <th>3</th>\n",
       "      <td>0.473929</td>\n",
       "      <td>1</td>\n",
       "      <td>0.622</td>\n",
       "      <td>0.571596</td>\n",
       "      <td>0.613146</td>\n",
       "    </tr>\n",
       "    <tr>\n",
       "      <th>4</th>\n",
       "      <td>0.615095</td>\n",
       "      <td>1</td>\n",
       "      <td>0.628</td>\n",
       "      <td>0.600761</td>\n",
       "      <td>0.566924</td>\n",
       "    </tr>\n",
       "  </tbody>\n",
       "</table>\n",
       "</div>"
      ],
      "text/plain": [
       "      logit  obs   rf_1      rf_2     xgb_3\n",
       "0  0.647253    1  0.690  0.688660  0.640573\n",
       "1  0.789965    0  0.786  0.748904  0.812762\n",
       "2  0.810083    1  0.714  0.839133  0.875785\n",
       "3  0.473929    1  0.622  0.571596  0.613146\n",
       "4  0.615095    1  0.628  0.600761  0.566924"
      ]
     },
     "execution_count": 40,
     "metadata": {},
     "output_type": "execute_result"
    }
   ],
   "source": [
    "df_predict = pd.DataFrame({'obs':y_test.ravel(), #include observed values for comparison \n",
    "                           'logit':predictions[0][:, 1], \n",
    "                           'rf_1':predictions[1][:, 1],\n",
    "                           'rf_2':predictions[2][:, 1],\n",
    "                           'xgb_3':predictions[3][:, 1]\n",
    "                          })\n",
    "df_predict.head()"
   ]
  },
  {
   "cell_type": "code",
   "execution_count": 53,
   "metadata": {},
   "outputs": [
    {
     "data": {
      "image/png": "[encoded data removed]",
      "text/plain": [
       "<matplotlib.figure.Figure at 0x1161515c0>"
      ]
     },
     "metadata": {},
     "output_type": "display_data"
    }
   ],
   "source": [
    "colors = ['blue', 'gray', 'green', 'red']\n",
    "\n",
    "fig, ax = plt.subplots()\n",
    "fig.set_size_inches(9, 9);\n",
    "for col, color in zip(df_predict.drop('obs', axis = 1).columns, colors):\n",
    "    _ = sns.distplot(df_predict[col], kde = False, color = color);"
   ]
  },
  {
   "cell_type": "markdown",
   "metadata": {},
   "source": [
    "Although the predictions of all four models are similar overall, there are probability ranges where the models perform differently. For example, the first random forest (gray) makes the most extreme predictions. \n",
    "\n",
    "## Ensemble voting \n",
    "\n",
    "To overcome the weaknesses of any individual model, it is common to combine multiple models to obtain final predictions. In ensemble models, the predictions of individually calibrated models can be averaged to achieve final predictions that can give better predictions than any individual classifier."
   ]
  },
  {
   "cell_type": "code",
   "execution_count": 163,
   "metadata": {
    "collapsed": true
   },
   "outputs": [],
   "source": [
    "eclf = VotingClassifier(estimators = [\n",
    "    ('lr', logit), ('rf', rf_1), ('xgb', xgb_3)],\n",
    "    voting = 'soft', weights = [1, 1, 2])"
   ]
  },
  {
   "cell_type": "markdown",
   "metadata": {},
   "source": [
    "As the gradient boosted tree classifier performed the best individually, let's weight this model more heavily than the other two models."
   ]
  },
  {
   "cell_type": "code",
   "execution_count": 164,
   "metadata": {},
   "outputs": [
    {
     "data": {
      "text/plain": [
       "(-0.55448830852481124, 0.0036930911647835465)"
      ]
     },
     "execution_count": 164,
     "metadata": {},
     "output_type": "execute_result"
    }
   ],
   "source": [
    "wv.cross_val_LL(eclf, X_woe_imputed, y_vector, kfold)"
   ]
  },
  {
   "cell_type": "code",
   "execution_count": 165,
   "metadata": {},
   "outputs": [
    {
     "data": {
      "text/html": [
       "<div>\n",
       "<table border=\"1\" class=\"dataframe\">\n",
       "  <thead>\n",
       "    <tr style=\"text-align: right;\">\n",
       "      <th></th>\n",
       "      <th>Id</th>\n",
       "      <th>voted</th>\n",
       "    </tr>\n",
       "  </thead>\n",
       "  <tbody>\n",
       "    <tr>\n",
       "      <th>39505</th>\n",
       "      <td>39506</td>\n",
       "      <td>0.845237</td>\n",
       "    </tr>\n",
       "    <tr>\n",
       "      <th>39506</th>\n",
       "      <td>39507</td>\n",
       "      <td>0.846536</td>\n",
       "    </tr>\n",
       "    <tr>\n",
       "      <th>39507</th>\n",
       "      <td>39508</td>\n",
       "      <td>0.813295</td>\n",
       "    </tr>\n",
       "    <tr>\n",
       "      <th>39508</th>\n",
       "      <td>39509</td>\n",
       "      <td>0.477712</td>\n",
       "    </tr>\n",
       "    <tr>\n",
       "      <th>39509</th>\n",
       "      <td>39510</td>\n",
       "      <td>0.491258</td>\n",
       "    </tr>\n",
       "  </tbody>\n",
       "</table>\n",
       "</div>"
      ],
      "text/plain": [
       "          Id     voted\n",
       "39505  39506  0.845237\n",
       "39506  39507  0.846536\n",
       "39507  39508  0.813295\n",
       "39508  39509  0.477712\n",
       "39509  39510  0.491258"
      ]
     },
     "execution_count": 165,
     "metadata": {},
     "output_type": "execute_result"
    }
   ],
   "source": [
    "eclf_fit = eclf.fit(X_train_full, y_vector)\n",
    "to_submit6 = wv.for_submission(eclf_fit, X_test_full, series_id, 6)\n",
    "to_submit6.tail()"
   ]
  },
  {
   "cell_type": "markdown",
   "metadata": {},
   "source": [
    "The public and private leaderboard scores from this submission were 0.55036 and 0.55183, respectively.\n",
    "\n",
    "Viewing the prediction distributions in the distplot above, we can see the predictions given by the second random forest (green) are most different from the XGBoost model. Therefore let's train an ensemble model with all four models."
   ]
  },
  {
   "cell_type": "code",
   "execution_count": 184,
   "metadata": {
    "collapsed": true
   },
   "outputs": [],
   "source": [
    "eclf2 = VotingClassifier(estimators = [\n",
    "    ('lr', logit), ('rf', rf_1), ('rf', rf_2), ('xgb', xgb_3)],\n",
    "    voting = 'soft', weights = [1, 1, 1, 3])"
   ]
  },
  {
   "cell_type": "markdown",
   "metadata": {},
   "source": [
    "Grid search (not shown) suggests giving the XGBoost model a weight of 3 results in the lowest log-loss score."
   ]
  },
  {
   "cell_type": "code",
   "execution_count": 185,
   "metadata": {},
   "outputs": [
    {
     "data": {
      "text/plain": [
       "(-0.55421127565951434, 0.0037041608773769547)"
      ]
     },
     "execution_count": 185,
     "metadata": {},
     "output_type": "execute_result"
    }
   ],
   "source": [
    "wv.cross_val_LL(eclf2, X_woe_imputed, y_vector, kfold)"
   ]
  },
  {
   "cell_type": "code",
   "execution_count": 186,
   "metadata": {},
   "outputs": [
    {
     "data": {
      "text/html": [
       "<div>\n",
       "<table border=\"1\" class=\"dataframe\">\n",
       "  <thead>\n",
       "    <tr style=\"text-align: right;\">\n",
       "      <th></th>\n",
       "      <th>Id</th>\n",
       "      <th>voted</th>\n",
       "    </tr>\n",
       "  </thead>\n",
       "  <tbody>\n",
       "    <tr>\n",
       "      <th>39505</th>\n",
       "      <td>39506</td>\n",
       "      <td>0.840061</td>\n",
       "    </tr>\n",
       "    <tr>\n",
       "      <th>39506</th>\n",
       "      <td>39507</td>\n",
       "      <td>0.850196</td>\n",
       "    </tr>\n",
       "    <tr>\n",
       "      <th>39507</th>\n",
       "      <td>39508</td>\n",
       "      <td>0.824467</td>\n",
       "    </tr>\n",
       "    <tr>\n",
       "      <th>39508</th>\n",
       "      <td>39509</td>\n",
       "      <td>0.475766</td>\n",
       "    </tr>\n",
       "    <tr>\n",
       "      <th>39509</th>\n",
       "      <td>39510</td>\n",
       "      <td>0.490968</td>\n",
       "    </tr>\n",
       "  </tbody>\n",
       "</table>\n",
       "</div>"
      ],
      "text/plain": [
       "          Id     voted\n",
       "39505  39506  0.840061\n",
       "39506  39507  0.850196\n",
       "39507  39508  0.824467\n",
       "39508  39509  0.475766\n",
       "39509  39510  0.490968"
      ]
     },
     "execution_count": 186,
     "metadata": {},
     "output_type": "execute_result"
    }
   ],
   "source": [
    "eclf2_fit = eclf2.fit(X_train_full, y_vector)\n",
    "to_submit7 = wv.for_submission(eclf2_fit, X_test_full, series_id, 7)\n",
    "to_submit7.tail()"
   ]
  },
  {
   "cell_type": "markdown",
   "metadata": {},
   "source": [
    "This classifier resulted in log-loss scores of 0.55004 (public) and 0.55158 (private)."
   ]
  },
  {
   "cell_type": "markdown",
   "metadata": {},
   "source": [
    "## Stacking models\n",
    "\n",
    "As opposed to ensemble methods where the final prediction is a weighted average or vote, stacking involves taking the probability predictions from individually tuned models and using these probabilities as a training set for a meta-classifier to produce final predictions."
   ]
  },
  {
   "cell_type": "code",
   "execution_count": 566,
   "metadata": {},
   "outputs": [
    {
     "data": {
      "text/plain": [
       "(-0.5545367030834748, 0.0038581139531508172)"
      ]
     },
     "execution_count": 566,
     "metadata": {},
     "output_type": "execute_result"
    }
   ],
   "source": [
    "meta_clf = XGBClassifier()\n",
    "sclf = StackingCVClassifier(classifiers = [logit, rf_1, rf_2, xgb_3],\n",
    "                            use_probas = True,\n",
    "                            meta_classifier = meta_clf,\n",
    "                            random_state = 42)\n",
    "\n",
    "wv.cross_val_LL(sclf, X_woe_imputed, y_vector, kfold)"
   ]
  },
  {
   "cell_type": "code",
   "execution_count": 540,
   "metadata": {},
   "outputs": [
    {
     "data": {
      "text/html": [
       "<div>\n",
       "<table border=\"1\" class=\"dataframe\">\n",
       "  <thead>\n",
       "    <tr style=\"text-align: right;\">\n",
       "      <th></th>\n",
       "      <th>Id</th>\n",
       "      <th>voted</th>\n",
       "    </tr>\n",
       "  </thead>\n",
       "  <tbody>\n",
       "    <tr>\n",
       "      <th>39505</th>\n",
       "      <td>39506</td>\n",
       "      <td>0.845467</td>\n",
       "    </tr>\n",
       "    <tr>\n",
       "      <th>39506</th>\n",
       "      <td>39507</td>\n",
       "      <td>0.841269</td>\n",
       "    </tr>\n",
       "    <tr>\n",
       "      <th>39507</th>\n",
       "      <td>39508</td>\n",
       "      <td>0.836503</td>\n",
       "    </tr>\n",
       "    <tr>\n",
       "      <th>39508</th>\n",
       "      <td>39509</td>\n",
       "      <td>0.485742</td>\n",
       "    </tr>\n",
       "    <tr>\n",
       "      <th>39509</th>\n",
       "      <td>39510</td>\n",
       "      <td>0.495457</td>\n",
       "    </tr>\n",
       "  </tbody>\n",
       "</table>\n",
       "</div>"
      ],
      "text/plain": [
       "          Id     voted\n",
       "39505  39506  0.845467\n",
       "39506  39507  0.841269\n",
       "39507  39508  0.836503\n",
       "39508  39509  0.485742\n",
       "39509  39510  0.495457"
      ]
     },
     "execution_count": 540,
     "metadata": {},
     "output_type": "execute_result"
    }
   ],
   "source": [
    "sclf_fit = sclf.fit(X_train_full, y_vector)\n",
    "to_submit10 = wv.for_submission(sclf, X_test_full, series_id, 10)\n",
    "to_submit10.tail()"
   ]
  },
  {
   "cell_type": "markdown",
   "metadata": {},
   "source": [
    "This submission resulted in public and private log-loss scores of 0.54996 and 0.55156, respectively."
   ]
  },
  {
   "cell_type": "markdown",
   "metadata": {},
   "source": [
    "## Feature importances\n",
    "\n",
    "Although it is difficult to investigate feature importances of the entire ensemble or stacked model, we can examine the feature importance scores of the individual models. Let's first look at the tree-based models."
   ]
  },
  {
   "cell_type": "code",
   "execution_count": 82,
   "metadata": {
    "collapsed": true
   },
   "outputs": [],
   "source": [
    "#Train the second random forest\n",
    "rf_2_fit = rf_2.fit(X_train_full, y_vector)"
   ]
  },
  {
   "cell_type": "code",
   "execution_count": 105,
   "metadata": {
    "collapsed": true
   },
   "outputs": [],
   "source": [
    "fitted = [rf_1_fit, rf_2_fit, xgb_3_fit]\n",
    "names = ['rf1', 'rf2', 'xgb3']\n",
    "list_importances = []\n",
    "for fit, name in zip(fitted, names):\n",
    "    feat = wv.find_important_features(train_imp, fit, \n",
    "                                      categ_card, quant_card, \n",
    "                                      col2 = name)\n",
    "    list_importances.append(feat)"
   ]
  },
  {
   "cell_type": "code",
   "execution_count": 108,
   "metadata": {},
   "outputs": [
    {
     "data": {
      "text/html": [
       "<div>\n",
       "<table border=\"1\" class=\"dataframe\">\n",
       "  <thead>\n",
       "    <tr style=\"text-align: right;\">\n",
       "      <th></th>\n",
       "      <th>features</th>\n",
       "      <th>rf1</th>\n",
       "    </tr>\n",
       "  </thead>\n",
       "  <tbody>\n",
       "    <tr>\n",
       "      <th>2</th>\n",
       "      <td>state_house</td>\n",
       "      <td>0.049366</td>\n",
       "    </tr>\n",
       "    <tr>\n",
       "      <th>0</th>\n",
       "      <td>gender</td>\n",
       "      <td>0.018311</td>\n",
       "    </tr>\n",
       "    <tr>\n",
       "      <th>3</th>\n",
       "      <td>age</td>\n",
       "      <td>0.017131</td>\n",
       "    </tr>\n",
       "    <tr>\n",
       "      <th>14</th>\n",
       "      <td>dist_ballot</td>\n",
       "      <td>0.007234</td>\n",
       "    </tr>\n",
       "    <tr>\n",
       "      <th>15</th>\n",
       "      <td>dist_poll</td>\n",
       "      <td>0.000115</td>\n",
       "    </tr>\n",
       "  </tbody>\n",
       "</table>\n",
       "</div>"
      ],
      "text/plain": [
       "       features       rf1\n",
       "2   state_house  0.049366\n",
       "0        gender  0.018311\n",
       "3           age  0.017131\n",
       "14  dist_ballot  0.007234\n",
       "15    dist_poll  0.000115"
      ]
     },
     "execution_count": 108,
     "metadata": {},
     "output_type": "execute_result"
    },
    {
     "data": {
      "text/html": [
       "<div>\n",
       "<table border=\"1\" class=\"dataframe\">\n",
       "  <thead>\n",
       "    <tr style=\"text-align: right;\">\n",
       "      <th></th>\n",
       "      <th>features</th>\n",
       "      <th>rf2</th>\n",
       "    </tr>\n",
       "  </thead>\n",
       "  <tbody>\n",
       "    <tr>\n",
       "      <th>8</th>\n",
       "      <td>children</td>\n",
       "      <td>0.057868</td>\n",
       "    </tr>\n",
       "    <tr>\n",
       "      <th>0</th>\n",
       "      <td>gender</td>\n",
       "      <td>0.029696</td>\n",
       "    </tr>\n",
       "    <tr>\n",
       "      <th>14</th>\n",
       "      <td>dist_ballot</td>\n",
       "      <td>0.015317</td>\n",
       "    </tr>\n",
       "    <tr>\n",
       "      <th>3</th>\n",
       "      <td>age</td>\n",
       "      <td>0.013257</td>\n",
       "    </tr>\n",
       "    <tr>\n",
       "      <th>15</th>\n",
       "      <td>dist_poll</td>\n",
       "      <td>0.000004</td>\n",
       "    </tr>\n",
       "  </tbody>\n",
       "</table>\n",
       "</div>"
      ],
      "text/plain": [
       "       features       rf2\n",
       "8      children  0.057868\n",
       "0        gender  0.029696\n",
       "14  dist_ballot  0.015317\n",
       "3           age  0.013257\n",
       "15    dist_poll  0.000004"
      ]
     },
     "execution_count": 108,
     "metadata": {},
     "output_type": "execute_result"
    },
    {
     "data": {
      "text/html": [
       "<div>\n",
       "<table border=\"1\" class=\"dataframe\">\n",
       "  <thead>\n",
       "    <tr style=\"text-align: right;\">\n",
       "      <th></th>\n",
       "      <th>features</th>\n",
       "      <th>xgb3</th>\n",
       "    </tr>\n",
       "  </thead>\n",
       "  <tbody>\n",
       "    <tr>\n",
       "      <th>2</th>\n",
       "      <td>state_house</td>\n",
       "      <td>0.053414</td>\n",
       "    </tr>\n",
       "    <tr>\n",
       "      <th>3</th>\n",
       "      <td>age</td>\n",
       "      <td>0.020218</td>\n",
       "    </tr>\n",
       "    <tr>\n",
       "      <th>0</th>\n",
       "      <td>gender</td>\n",
       "      <td>0.020153</td>\n",
       "    </tr>\n",
       "    <tr>\n",
       "      <th>14</th>\n",
       "      <td>dist_ballot</td>\n",
       "      <td>0.006881</td>\n",
       "    </tr>\n",
       "    <tr>\n",
       "      <th>15</th>\n",
       "      <td>dist_poll</td>\n",
       "      <td>0.000163</td>\n",
       "    </tr>\n",
       "  </tbody>\n",
       "</table>\n",
       "</div>"
      ],
      "text/plain": [
       "       features      xgb3\n",
       "2   state_house  0.053414\n",
       "3           age  0.020218\n",
       "0        gender  0.020153\n",
       "14  dist_ballot  0.006881\n",
       "15    dist_poll  0.000163"
      ]
     },
     "execution_count": 108,
     "metadata": {},
     "output_type": "execute_result"
    }
   ],
   "source": [
    "for i in list_importances:\n",
    "    i.tail()"
   ]
  },
  {
   "cell_type": "markdown",
   "metadata": {},
   "source": [
    "We see that in all three models the dist variables are ranked very low. Let's try training the stacked classifier without the presence of these two variables.\n",
    "\n",
    "### Removing distance columns (imputed data)"
   ]
  },
  {
   "cell_type": "code",
   "execution_count": 567,
   "metadata": {},
   "outputs": [
    {
     "data": {
      "text/plain": [
       "(-0.55465009977429791, 0.0037332539486871459)"
      ]
     },
     "execution_count": 567,
     "metadata": {},
     "output_type": "execute_result"
    }
   ],
   "source": [
    "wv.cross_val_LL(sclf, X_woe, y_vector, kfold)"
   ]
  },
  {
   "cell_type": "markdown",
   "metadata": {},
   "source": [
    "The log-loss is lower compared to the classifier trained on the matrix containing the imputed data. Let's also see if using fewer individual models for the stacking classifier results in better performance."
   ]
  },
  {
   "cell_type": "code",
   "execution_count": 568,
   "metadata": {},
   "outputs": [
    {
     "data": {
      "text/plain": [
       "(-0.55479833372607268, 0.0037889816080180008)"
      ]
     },
     "execution_count": 568,
     "metadata": {},
     "output_type": "execute_result"
    }
   ],
   "source": [
    "sclf2 = StackingCVClassifier(classifiers = [logit, rf_2, xgb_3],\n",
    "                            use_probas = True,\n",
    "                            meta_classifier = meta_clf,\n",
    "                            random_state = 42)\n",
    "\n",
    "wv.cross_val_LL(sclf2, X_woe, y_vector, kfold)"
   ]
  },
  {
   "cell_type": "code",
   "execution_count": 569,
   "metadata": {},
   "outputs": [
    {
     "data": {
      "text/plain": [
       "(-0.55522346867976935, 0.0036879204991137485)"
      ]
     },
     "execution_count": 569,
     "metadata": {},
     "output_type": "execute_result"
    }
   ],
   "source": [
    "sclf3 = StackingCVClassifier(classifiers = [logit, xgb_3],\n",
    "                            use_probas = True,\n",
    "                            meta_classifier = meta_clf,\n",
    "                            random_state = 42)\n",
    "\n",
    "wv.cross_val_LL(sclf3, X_woe, y_vector, kfold)"
   ]
  },
  {
   "cell_type": "code",
   "execution_count": 570,
   "metadata": {},
   "outputs": [
    {
     "data": {
      "text/plain": [
       "(-0.55468384387783121, 0.0036940756573150446)"
      ]
     },
     "execution_count": 570,
     "metadata": {},
     "output_type": "execute_result"
    }
   ],
   "source": [
    "meta_clf = XGBClassifier()\n",
    "sclf4 = StackingCVClassifier(classifiers = [logit, rf_1, xgb_3],\n",
    "                            use_probas = True,\n",
    "                            meta_classifier = meta_clf,\n",
    "                            random_state = 42)\n",
    "\n",
    "wv.cross_val_LL(sclf4, X_woe, y_vector, kfold)"
   ]
  },
  {
   "cell_type": "markdown",
   "metadata": {},
   "source": [
    "Using 4 individual classifiers still leads to the best performance as evaluated by cross-validation.\n",
    "\n",
    "Let's create the new test matrix."
   ]
  },
  {
   "cell_type": "code",
   "execution_count": 114,
   "metadata": {
    "collapsed": true
   },
   "outputs": [],
   "source": [
    "X_test_nodist = X_df.iloc[118529:, ].drop(['dist_poll', 'dist_ballot'], axis = 1).as_matrix()"
   ]
  },
  {
   "cell_type": "code",
   "execution_count": 575,
   "metadata": {},
   "outputs": [
    {
     "data": {
      "text/html": [
       "<div>\n",
       "<table border=\"1\" class=\"dataframe\">\n",
       "  <thead>\n",
       "    <tr style=\"text-align: right;\">\n",
       "      <th></th>\n",
       "      <th>Id</th>\n",
       "      <th>voted</th>\n",
       "    </tr>\n",
       "  </thead>\n",
       "  <tbody>\n",
       "    <tr>\n",
       "      <th>0</th>\n",
       "      <td>1</td>\n",
       "      <td>0.643778</td>\n",
       "    </tr>\n",
       "    <tr>\n",
       "      <th>1</th>\n",
       "      <td>2</td>\n",
       "      <td>0.480491</td>\n",
       "    </tr>\n",
       "    <tr>\n",
       "      <th>2</th>\n",
       "      <td>3</td>\n",
       "      <td>0.706415</td>\n",
       "    </tr>\n",
       "    <tr>\n",
       "      <th>3</th>\n",
       "      <td>4</td>\n",
       "      <td>0.622526</td>\n",
       "    </tr>\n",
       "    <tr>\n",
       "      <th>4</th>\n",
       "      <td>5</td>\n",
       "      <td>0.807769</td>\n",
       "    </tr>\n",
       "  </tbody>\n",
       "</table>\n",
       "</div>"
      ],
      "text/plain": [
       "   Id     voted\n",
       "0   1  0.643778\n",
       "1   2  0.480491\n",
       "2   3  0.706415\n",
       "3   4  0.622526\n",
       "4   5  0.807769"
      ]
     },
     "execution_count": 575,
     "metadata": {},
     "output_type": "execute_result"
    }
   ],
   "source": [
    "sclf_fit_nodist = sclf.fit(X_woe, y_vector)\n",
    "submit_12 = wv.for_submission(sclf_fit_nodist, X_test_nodist, series_id, 12)\n",
    "submit_12.head()"
   ]
  },
  {
   "cell_type": "markdown",
   "metadata": {},
   "source": [
    "This submission resulted in public and private log-loss scores of 0.54943 and 0.55155, respectively."
   ]
  },
  {
   "cell_type": "markdown",
   "metadata": {},
   "source": [
    "## Transforming all categorical variables\n",
    "\n",
    "Originally party and gender were one-hot-encoded rather than transformed using WOE. However, party still has a larger number of categories relative to the total number of features. Let's test whether transforming all the categorical variables (and dropping the distance variables) results in better performance."
   ]
  },
  {
   "cell_type": "code",
   "execution_count": 124,
   "metadata": {},
   "outputs": [
    {
     "data": {
      "text/html": [
       "<div>\n",
       "<table border=\"1\" class=\"dataframe\">\n",
       "  <thead>\n",
       "    <tr style=\"text-align: right;\">\n",
       "      <th></th>\n",
       "      <th>gender</th>\n",
       "      <th>congress_district</th>\n",
       "      <th>state_house</th>\n",
       "      <th>age</th>\n",
       "      <th>party</th>\n",
       "      <th>race</th>\n",
       "      <th>hs_only</th>\n",
       "      <th>married</th>\n",
       "      <th>children</th>\n",
       "      <th>cath</th>\n",
       "      <th>evang</th>\n",
       "      <th>non_chrst</th>\n",
       "      <th>other_chrst</th>\n",
       "      <th>days_reg</th>\n",
       "      <th>dist_ballot</th>\n",
       "      <th>dist_poll</th>\n",
       "      <th>voted</th>\n",
       "    </tr>\n",
       "  </thead>\n",
       "  <tbody>\n",
       "    <tr>\n",
       "      <th>0</th>\n",
       "      <td>-0.165044</td>\n",
       "      <td>0.044297</td>\n",
       "      <td>-0.075085</td>\n",
       "      <td>36</td>\n",
       "      <td>-0.381198</td>\n",
       "      <td>-0.434060</td>\n",
       "      <td>25.4</td>\n",
       "      <td>63.4</td>\n",
       "      <td>54.0</td>\n",
       "      <td>16.7</td>\n",
       "      <td>16.5</td>\n",
       "      <td>39.6</td>\n",
       "      <td>27.3</td>\n",
       "      <td>420</td>\n",
       "      <td>2.658148</td>\n",
       "      <td>3.456541</td>\n",
       "      <td>Y</td>\n",
       "    </tr>\n",
       "    <tr>\n",
       "      <th>1</th>\n",
       "      <td>0.178863</td>\n",
       "      <td>0.056369</td>\n",
       "      <td>0.378928</td>\n",
       "      <td>55</td>\n",
       "      <td>-0.381198</td>\n",
       "      <td>0.080037</td>\n",
       "      <td>7.9</td>\n",
       "      <td>97.8</td>\n",
       "      <td>59.8</td>\n",
       "      <td>16.7</td>\n",
       "      <td>15.5</td>\n",
       "      <td>30.9</td>\n",
       "      <td>36.9</td>\n",
       "      <td>307</td>\n",
       "      <td>2.240415</td>\n",
       "      <td>2.130636</td>\n",
       "      <td>Y</td>\n",
       "    </tr>\n",
       "    <tr>\n",
       "      <th>2</th>\n",
       "      <td>0.178863</td>\n",
       "      <td>0.285996</td>\n",
       "      <td>0.375024</td>\n",
       "      <td>24</td>\n",
       "      <td>-0.381198</td>\n",
       "      <td>0.066171</td>\n",
       "      <td>50.2</td>\n",
       "      <td>7.6</td>\n",
       "      <td>49.5</td>\n",
       "      <td>14.6</td>\n",
       "      <td>24.0</td>\n",
       "      <td>29.6</td>\n",
       "      <td>31.7</td>\n",
       "      <td>292</td>\n",
       "      <td>2.332767</td>\n",
       "      <td>2.872147</td>\n",
       "      <td>Y</td>\n",
       "    </tr>\n",
       "    <tr>\n",
       "      <th>3</th>\n",
       "      <td>0.178863</td>\n",
       "      <td>0.044297</td>\n",
       "      <td>-0.167379</td>\n",
       "      <td>25</td>\n",
       "      <td>0.396916</td>\n",
       "      <td>0.066171</td>\n",
       "      <td>38.0</td>\n",
       "      <td>8.5</td>\n",
       "      <td>47.4</td>\n",
       "      <td>13.1</td>\n",
       "      <td>22.3</td>\n",
       "      <td>33.3</td>\n",
       "      <td>31.4</td>\n",
       "      <td>316</td>\n",
       "      <td>2.983480</td>\n",
       "      <td>3.193841</td>\n",
       "      <td>Y</td>\n",
       "    </tr>\n",
       "    <tr>\n",
       "      <th>4</th>\n",
       "      <td>-0.165044</td>\n",
       "      <td>-0.172422</td>\n",
       "      <td>0.401082</td>\n",
       "      <td>22</td>\n",
       "      <td>0.339505</td>\n",
       "      <td>0.066171</td>\n",
       "      <td>30.5</td>\n",
       "      <td>19.1</td>\n",
       "      <td>23.1</td>\n",
       "      <td>16.0</td>\n",
       "      <td>10.5</td>\n",
       "      <td>39.1</td>\n",
       "      <td>34.5</td>\n",
       "      <td>392</td>\n",
       "      <td>3.160107</td>\n",
       "      <td>3.841248</td>\n",
       "      <td>Y</td>\n",
       "    </tr>\n",
       "  </tbody>\n",
       "</table>\n",
       "</div>"
      ],
      "text/plain": [
       "     gender  congress_district  state_house  age     party      race  hs_only  \\\n",
       "0 -0.165044           0.044297    -0.075085   36 -0.381198 -0.434060     25.4   \n",
       "1  0.178863           0.056369     0.378928   55 -0.381198  0.080037      7.9   \n",
       "2  0.178863           0.285996     0.375024   24 -0.381198  0.066171     50.2   \n",
       "3  0.178863           0.044297    -0.167379   25  0.396916  0.066171     38.0   \n",
       "4 -0.165044          -0.172422     0.401082   22  0.339505  0.066171     30.5   \n",
       "\n",
       "   married  children  cath  evang  non_chrst  other_chrst  days_reg  \\\n",
       "0     63.4      54.0  16.7   16.5       39.6         27.3       420   \n",
       "1     97.8      59.8  16.7   15.5       30.9         36.9       307   \n",
       "2      7.6      49.5  14.6   24.0       29.6         31.7       292   \n",
       "3      8.5      47.4  13.1   22.3       33.3         31.4       316   \n",
       "4     19.1      23.1  16.0   10.5       39.1         34.5       392   \n",
       "\n",
       "   dist_ballot  dist_poll voted  \n",
       "0     2.658148   3.456541     Y  \n",
       "1     2.240415   2.130636     Y  \n",
       "2     2.332767   2.872147     Y  \n",
       "3     2.983480   3.193841     Y  \n",
       "4     3.160107   3.841248     Y  "
      ]
     },
     "execution_count": 124,
     "metadata": {},
     "output_type": "execute_result"
    }
   ],
   "source": [
    "all_woes = []\n",
    "#transform all categorical variables\n",
    "for i in categ:\n",
    "    _, woe = wv.transform_to_continuous(train_imp, i, voted_counts)\n",
    "    all_woes.append(woe)\n",
    "\n",
    "train_all_woe = wv.create_card_df(train_imp, categ, all_woes)\n",
    "train_all_woe.head()"
   ]
  },
  {
   "cell_type": "code",
   "execution_count": 125,
   "metadata": {},
   "outputs": [
    {
     "data": {
      "text/html": [
       "<div>\n",
       "<table border=\"1\" class=\"dataframe\">\n",
       "  <thead>\n",
       "    <tr style=\"text-align: right;\">\n",
       "      <th></th>\n",
       "      <th>gender</th>\n",
       "      <th>congress_district</th>\n",
       "      <th>state_house</th>\n",
       "      <th>age</th>\n",
       "      <th>party</th>\n",
       "      <th>race</th>\n",
       "      <th>hs_only</th>\n",
       "      <th>married</th>\n",
       "      <th>children</th>\n",
       "      <th>cath</th>\n",
       "      <th>evang</th>\n",
       "      <th>non_chrst</th>\n",
       "      <th>other_chrst</th>\n",
       "      <th>days_reg</th>\n",
       "    </tr>\n",
       "  </thead>\n",
       "  <tbody>\n",
       "    <tr>\n",
       "      <th>0</th>\n",
       "      <td>-0.988270</td>\n",
       "      <td>0.160564</td>\n",
       "      <td>-0.205271</td>\n",
       "      <td>0.021008</td>\n",
       "      <td>-1.085858</td>\n",
       "      <td>-2.428058</td>\n",
       "      <td>0.163349</td>\n",
       "      <td>0.598340</td>\n",
       "      <td>1.006435</td>\n",
       "      <td>0.743003</td>\n",
       "      <td>0.109214</td>\n",
       "      <td>-0.109643</td>\n",
       "      <td>-1.023448</td>\n",
       "      <td>-0.359789</td>\n",
       "    </tr>\n",
       "    <tr>\n",
       "      <th>1</th>\n",
       "      <td>1.006917</td>\n",
       "      <td>0.214521</td>\n",
       "      <td>0.792340</td>\n",
       "      <td>1.233787</td>\n",
       "      <td>-1.085858</td>\n",
       "      <td>0.414434</td>\n",
       "      <td>-1.007899</td>\n",
       "      <td>1.684611</td>\n",
       "      <td>1.287718</td>\n",
       "      <td>0.743003</td>\n",
       "      <td>-0.045930</td>\n",
       "      <td>-0.937032</td>\n",
       "      <td>1.540124</td>\n",
       "      <td>-1.392784</td>\n",
       "    </tr>\n",
       "    <tr>\n",
       "      <th>2</th>\n",
       "      <td>1.006917</td>\n",
       "      <td>1.240874</td>\n",
       "      <td>0.783762</td>\n",
       "      <td>-0.744957</td>\n",
       "      <td>-1.085858</td>\n",
       "      <td>0.337771</td>\n",
       "      <td>1.823175</td>\n",
       "      <td>-1.163692</td>\n",
       "      <td>0.788199</td>\n",
       "      <td>0.386895</td>\n",
       "      <td>1.272794</td>\n",
       "      <td>-1.060665</td>\n",
       "      <td>0.151523</td>\n",
       "      <td>-1.529907</td>\n",
       "    </tr>\n",
       "    <tr>\n",
       "      <th>3</th>\n",
       "      <td>1.006917</td>\n",
       "      <td>0.160564</td>\n",
       "      <td>-0.408070</td>\n",
       "      <td>-0.681127</td>\n",
       "      <td>0.996590</td>\n",
       "      <td>0.337771</td>\n",
       "      <td>1.006647</td>\n",
       "      <td>-1.135273</td>\n",
       "      <td>0.686355</td>\n",
       "      <td>0.132531</td>\n",
       "      <td>1.009049</td>\n",
       "      <td>-0.708787</td>\n",
       "      <td>0.071411</td>\n",
       "      <td>-1.310510</td>\n",
       "    </tr>\n",
       "    <tr>\n",
       "      <th>4</th>\n",
       "      <td>-0.988270</td>\n",
       "      <td>-0.808095</td>\n",
       "      <td>0.841021</td>\n",
       "      <td>-0.872618</td>\n",
       "      <td>0.842944</td>\n",
       "      <td>0.337771</td>\n",
       "      <td>0.504684</td>\n",
       "      <td>-0.800550</td>\n",
       "      <td>-0.492123</td>\n",
       "      <td>0.624300</td>\n",
       "      <td>-0.821650</td>\n",
       "      <td>-0.157195</td>\n",
       "      <td>0.899231</td>\n",
       "      <td>-0.615752</td>\n",
       "    </tr>\n",
       "  </tbody>\n",
       "</table>\n",
       "</div>"
      ],
      "text/plain": [
       "     gender  congress_district  state_house       age     party      race  \\\n",
       "0 -0.988270           0.160564    -0.205271  0.021008 -1.085858 -2.428058   \n",
       "1  1.006917           0.214521     0.792340  1.233787 -1.085858  0.414434   \n",
       "2  1.006917           1.240874     0.783762 -0.744957 -1.085858  0.337771   \n",
       "3  1.006917           0.160564    -0.408070 -0.681127  0.996590  0.337771   \n",
       "4 -0.988270          -0.808095     0.841021 -0.872618  0.842944  0.337771   \n",
       "\n",
       "    hs_only   married  children      cath     evang  non_chrst  other_chrst  \\\n",
       "0  0.163349  0.598340  1.006435  0.743003  0.109214  -0.109643    -1.023448   \n",
       "1 -1.007899  1.684611  1.287718  0.743003 -0.045930  -0.937032     1.540124   \n",
       "2  1.823175 -1.163692  0.788199  0.386895  1.272794  -1.060665     0.151523   \n",
       "3  1.006647 -1.135273  0.686355  0.132531  1.009049  -0.708787     0.071411   \n",
       "4  0.504684 -0.800550 -0.492123  0.624300 -0.821650  -0.157195     0.899231   \n",
       "\n",
       "   days_reg  \n",
       "0 -0.359789  \n",
       "1 -1.392784  \n",
       "2 -1.529907  \n",
       "3 -1.310510  \n",
       "4 -0.615752  "
      ]
     },
     "execution_count": 125,
     "metadata": {},
     "output_type": "execute_result"
    }
   ],
   "source": [
    "#drop response and dist_\n",
    "train_all_woe.drop(['voted', 'dist_ballot', 'dist_poll'],\n",
    "                  axis = 1, inplace = True)\n",
    "\n",
    "#normalize all variables\n",
    "train_all_woe = (train_all_woe - train_all_woe.mean()) / train_all_woe.std()\n",
    "train_all_woe.head()\n",
    "\n",
    "X_all_woe = train_all_woe.as_matrix()"
   ]
  },
  {
   "cell_type": "code",
   "execution_count": 126,
   "metadata": {},
   "outputs": [
    {
     "data": {
      "text/plain": [
       "(118529, 14)"
      ]
     },
     "execution_count": 126,
     "metadata": {},
     "output_type": "execute_result"
    },
    {
     "data": {
      "text/plain": [
       "(118529,)"
      ]
     },
     "execution_count": 126,
     "metadata": {},
     "output_type": "execute_result"
    }
   ],
   "source": [
    "X_all_woe.shape\n",
    "y_vector.shape"
   ]
  },
  {
   "cell_type": "code",
   "execution_count": 129,
   "metadata": {},
   "outputs": [
    {
     "data": {
      "text/plain": [
       "(-0.55456212066322985, 0.0038112458042181135)"
      ]
     },
     "execution_count": 129,
     "metadata": {},
     "output_type": "execute_result"
    }
   ],
   "source": [
    "wv.cross_val_LL(sclf, X_all_woe, y_vector, kfold)"
   ]
  },
  {
   "cell_type": "code",
   "execution_count": 130,
   "metadata": {
    "collapsed": true
   },
   "outputs": [],
   "source": [
    "#create new train and test sets\n",
    "train_test = wv.create_card_df(all_data, categ, all_woes)\n",
    "train_test = train_test.drop(['dist_ballot', 'dist_poll'], axis = 1)\n",
    "train_test = (train_test - train_test.mean()) / train_test.std()\n",
    "\n",
    "X_train_card = train_test.iloc[:118529, ].as_matrix()\n",
    "X_test_card = train_test.iloc[118529:, ].as_matrix()"
   ]
  },
  {
   "cell_type": "code",
   "execution_count": 634,
   "metadata": {},
   "outputs": [
    {
     "data": {
      "text/html": [
       "<div>\n",
       "<table border=\"1\" class=\"dataframe\">\n",
       "  <thead>\n",
       "    <tr style=\"text-align: right;\">\n",
       "      <th></th>\n",
       "      <th>Id</th>\n",
       "      <th>voted</th>\n",
       "    </tr>\n",
       "  </thead>\n",
       "  <tbody>\n",
       "    <tr>\n",
       "      <th>0</th>\n",
       "      <td>1</td>\n",
       "      <td>0.636529</td>\n",
       "    </tr>\n",
       "    <tr>\n",
       "      <th>1</th>\n",
       "      <td>2</td>\n",
       "      <td>0.491942</td>\n",
       "    </tr>\n",
       "    <tr>\n",
       "      <th>2</th>\n",
       "      <td>3</td>\n",
       "      <td>0.694913</td>\n",
       "    </tr>\n",
       "    <tr>\n",
       "      <th>3</th>\n",
       "      <td>4</td>\n",
       "      <td>0.612622</td>\n",
       "    </tr>\n",
       "    <tr>\n",
       "      <th>4</th>\n",
       "      <td>5</td>\n",
       "      <td>0.816451</td>\n",
       "    </tr>\n",
       "  </tbody>\n",
       "</table>\n",
       "</div>"
      ],
      "text/plain": [
       "   Id     voted\n",
       "0   1  0.636529\n",
       "1   2  0.491942\n",
       "2   3  0.694913\n",
       "3   4  0.612622\n",
       "4   5  0.816451"
      ]
     },
     "execution_count": 634,
     "metadata": {},
     "output_type": "execute_result"
    }
   ],
   "source": [
    "sclf_fit_final = sclf(X_train_card, y_vector)\n",
    "to_submit14 = wv.for_submission(sclf_fit_final, X_test_card, series_id, 14)\n",
    "to_submit14.head()"
   ]
  },
  {
   "cell_type": "markdown",
   "metadata": {},
   "source": [
    "The public log-loss score from this submission was 0.5491. The final score is 0.55154, and my final rank is 5 out of 40 in this [competition](https://inclass.kaggle.com/c/who-voted/leaderboard).\n",
    "\n",
    "Let's save predictions from the final stacked classifier, the individually fitted models and the test and train matrices for further analysis and future reference."
   ]
  },
  {
   "cell_type": "code",
   "execution_count": null,
   "metadata": {
    "collapsed": true
   },
   "outputs": [],
   "source": [
    "#get predictions from final model\n",
    "predictions = sclf_fit_final.predict_proba(X_test_card)\n",
    "\n",
    "#save probabilities with predictor information\n",
    "pred_test = test_imp.copy()\n",
    "pred_test['voted_proba'] = predictions[:, 1]\n",
    "pred_test.to_csv('pred_test.csv', index = False)"
   ]
  },
  {
   "cell_type": "code",
   "execution_count": 133,
   "metadata": {
    "collapsed": true
   },
   "outputs": [],
   "source": [
    "#train individual models on final predictors\n",
    "logit_fit_final = logit.fit(X_train_card, y_vector)\n",
    "xgb_fit_final = xgb_3.fit(X_train_card, y_vector)\n",
    "rf1_fit_final = rf_1.fit(X_train_card, y_vector)\n",
    "rf2_fit_final = rf_2.fit(X_train_card, y_vector)"
   ]
  },
  {
   "cell_type": "code",
   "execution_count": 134,
   "metadata": {},
   "outputs": [
    {
     "data": {
      "text/plain": [
       "['final_sclf.pkl']"
      ]
     },
     "execution_count": 134,
     "metadata": {},
     "output_type": "execute_result"
    },
    {
     "data": {
      "text/plain": [
       "['final_logit.pkl']"
      ]
     },
     "execution_count": 134,
     "metadata": {},
     "output_type": "execute_result"
    },
    {
     "data": {
      "text/plain": [
       "['final_xgb.pkl']"
      ]
     },
     "execution_count": 134,
     "metadata": {},
     "output_type": "execute_result"
    },
    {
     "data": {
      "text/plain": [
       "['final_rf1.pkl']"
      ]
     },
     "execution_count": 134,
     "metadata": {},
     "output_type": "execute_result"
    },
    {
     "data": {
      "text/plain": [
       "['final_rf2.pkl']"
      ]
     },
     "execution_count": 134,
     "metadata": {},
     "output_type": "execute_result"
    }
   ],
   "source": [
    "#save trained models\n",
    "final_models = [sclf_fit_final, logit_fit_final, \n",
    "                xgb_fit_final, rf1_fit_final, rf2_fit_final]\n",
    "file_names = ['final_sclf', 'final_logit', 'final_xgb', 'final_rf1', 'final_rf2']\n",
    "\n",
    "for model, name in zip(final_models, file_names):\n",
    "    joblib.dump(model, '{}.pkl'.format(name))"
   ]
  },
  {
   "cell_type": "code",
   "execution_count": 135,
   "metadata": {
    "collapsed": true
   },
   "outputs": [],
   "source": [
    "matrices = [X_train_card, y_vector, X_test_card]\n",
    "matrix_names = ['final_train', 'final_y', 'final_test']\n",
    "\n",
    "for m, n in zip(matrices, matrix_names):\n",
    "    np.savetxt('{}.csv'.format(n), m, delimiter = ',')"
   ]
  },
  {
   "cell_type": "markdown",
   "metadata": {},
   "source": [
    "See [part 5](who-voted_final.ipynb) for model interpretation and final analyses."
   ]
  }
 ],
 "metadata": {
  "kernelspec": {
   "display_name": "Python 3",
   "language": "python",
   "name": "python3"
  },
  "language_info": {
   "codemirror_mode": {
    "name": "ipython",
    "version": 3
   },
   "file_extension": ".py",
   "mimetype": "text/x-python",
   "name": "python",
   "nbconvert_exporter": "python",
   "pygments_lexer": "ipython3",
   "version": "3.6.0"
  }
 },
 "nbformat": 4,
 "nbformat_minor": 2
}
