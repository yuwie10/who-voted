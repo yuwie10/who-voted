{
 "cells": [
  {
   "cell_type": "markdown",
   "metadata": {},
   "source": [
    "# Predict 2016 Colorado voter turnout\n",
    "\n",
    "Welcome to the Spring 2017, Harvard Statistics 149 prediction contest/course project!\n",
    "\n",
    "**Prediction contest ends April 30, 2017, at 10pm EDT**\n",
    "\n",
    "The goal of this project is to use the modeling methods you learned in Statistics 149 (and possibly other related methods) to analyze a data set on whether a Colorado voting-eligible citizen ended up actually voting in the 2016 US election. These data were kindly provided by moveon.org. More details can be found [here](https://inclass.kaggle.com/c/who-voted).\n",
    "\n",
    "## Exploration of features\n",
    "\n",
    "The goal of this notebook is to explore which features may be important variables for predicting whether a voter is likely to turn out to vote or not. This is the second notebook for this competition. See [part 1](who-voted_EDA.ipynb) for more details."
   ]
  },
  {
   "cell_type": "code",
   "execution_count": 41,
   "metadata": {
    "collapsed": true
   },
   "outputs": [],
   "source": [
    "import pandas as pd\n",
    "import numpy as np\n",
    "\n",
    "from sklearn.ensemble import RandomForestClassifier\n",
    "from sklearn.model_selection import train_test_split\n",
    "from sklearn.model_selection import cross_val_score\n",
    "from sklearn.model_selection import StratifiedKFold\n",
    "from sklearn.metrics import log_loss\n",
    "\n",
    "import matplotlib.pyplot as plt\n",
    "import seaborn as sns\n",
    "%matplotlib inline\n",
    "\n",
    "from IPython.core.interactiveshell import InteractiveShell\n",
    "InteractiveShell.ast_node_interactivity = \"all\""
   ]
  },
  {
   "cell_type": "markdown",
   "metadata": {},
   "source": [
    "User-designed functions for this project."
   ]
  },
  {
   "cell_type": "code",
   "execution_count": 52,
   "metadata": {
    "collapsed": false
   },
   "outputs": [],
   "source": [
    "import who_voted_functions as wv\n",
    "import importlib as imp\n",
    "imp.reload(wv);"
   ]
  },
  {
   "cell_type": "code",
   "execution_count": 24,
   "metadata": {
    "collapsed": false
   },
   "outputs": [
    {
     "data": {
      "text/html": [
       "<div>\n",
       "<table border=\"1\" class=\"dataframe\">\n",
       "  <thead>\n",
       "    <tr style=\"text-align: right;\">\n",
       "      <th></th>\n",
       "      <th>voted</th>\n",
       "      <th>gender</th>\n",
       "      <th>congress_district</th>\n",
       "      <th>state_house</th>\n",
       "      <th>age</th>\n",
       "      <th>dist_ballot</th>\n",
       "      <th>dist_poll</th>\n",
       "      <th>party</th>\n",
       "      <th>race</th>\n",
       "      <th>hs_only</th>\n",
       "      <th>married</th>\n",
       "      <th>children</th>\n",
       "      <th>cath</th>\n",
       "      <th>evang</th>\n",
       "      <th>non_chrst</th>\n",
       "      <th>other_chrst</th>\n",
       "      <th>days_reg</th>\n",
       "    </tr>\n",
       "  </thead>\n",
       "  <tbody>\n",
       "    <tr>\n",
       "      <th>0</th>\n",
       "      <td>Y</td>\n",
       "      <td>M</td>\n",
       "      <td>7.0</td>\n",
       "      <td>31.0</td>\n",
       "      <td>36</td>\n",
       "      <td>NaN</td>\n",
       "      <td>NaN</td>\n",
       "      <td>U</td>\n",
       "      <td>Hispanic</td>\n",
       "      <td>25.4</td>\n",
       "      <td>63.4</td>\n",
       "      <td>54.0</td>\n",
       "      <td>16.7</td>\n",
       "      <td>16.5</td>\n",
       "      <td>39.6</td>\n",
       "      <td>27.3</td>\n",
       "      <td>420</td>\n",
       "    </tr>\n",
       "    <tr>\n",
       "      <th>1</th>\n",
       "      <td>Y</td>\n",
       "      <td>F</td>\n",
       "      <td>6.0</td>\n",
       "      <td>38.0</td>\n",
       "      <td>55</td>\n",
       "      <td>NaN</td>\n",
       "      <td>NaN</td>\n",
       "      <td>U</td>\n",
       "      <td>Uncoded</td>\n",
       "      <td>7.9</td>\n",
       "      <td>97.8</td>\n",
       "      <td>59.8</td>\n",
       "      <td>16.7</td>\n",
       "      <td>15.5</td>\n",
       "      <td>30.9</td>\n",
       "      <td>36.9</td>\n",
       "      <td>307</td>\n",
       "    </tr>\n",
       "    <tr>\n",
       "      <th>2</th>\n",
       "      <td>Y</td>\n",
       "      <td>F</td>\n",
       "      <td>2.0</td>\n",
       "      <td>53.0</td>\n",
       "      <td>24</td>\n",
       "      <td>NaN</td>\n",
       "      <td>NaN</td>\n",
       "      <td>U</td>\n",
       "      <td>Caucasian</td>\n",
       "      <td>50.2</td>\n",
       "      <td>7.6</td>\n",
       "      <td>49.5</td>\n",
       "      <td>14.6</td>\n",
       "      <td>24.0</td>\n",
       "      <td>29.6</td>\n",
       "      <td>31.7</td>\n",
       "      <td>292</td>\n",
       "    </tr>\n",
       "    <tr>\n",
       "      <th>3</th>\n",
       "      <td>Y</td>\n",
       "      <td>F</td>\n",
       "      <td>7.0</td>\n",
       "      <td>30.0</td>\n",
       "      <td>25</td>\n",
       "      <td>NaN</td>\n",
       "      <td>NaN</td>\n",
       "      <td>D</td>\n",
       "      <td>Caucasian</td>\n",
       "      <td>38.0</td>\n",
       "      <td>8.5</td>\n",
       "      <td>47.4</td>\n",
       "      <td>13.1</td>\n",
       "      <td>22.3</td>\n",
       "      <td>33.3</td>\n",
       "      <td>31.4</td>\n",
       "      <td>316</td>\n",
       "    </tr>\n",
       "    <tr>\n",
       "      <th>4</th>\n",
       "      <td>Y</td>\n",
       "      <td>M</td>\n",
       "      <td>5.0</td>\n",
       "      <td>19.0</td>\n",
       "      <td>22</td>\n",
       "      <td>NaN</td>\n",
       "      <td>NaN</td>\n",
       "      <td>R</td>\n",
       "      <td>Caucasian</td>\n",
       "      <td>30.5</td>\n",
       "      <td>19.1</td>\n",
       "      <td>23.1</td>\n",
       "      <td>16.0</td>\n",
       "      <td>10.5</td>\n",
       "      <td>39.1</td>\n",
       "      <td>34.5</td>\n",
       "      <td>392</td>\n",
       "    </tr>\n",
       "  </tbody>\n",
       "</table>\n",
       "</div>"
      ],
      "text/plain": [
       "  voted gender congress_district state_house  age  dist_ballot  dist_poll  \\\n",
       "0     Y      M               7.0        31.0   36          NaN        NaN   \n",
       "1     Y      F               6.0        38.0   55          NaN        NaN   \n",
       "2     Y      F               2.0        53.0   24          NaN        NaN   \n",
       "3     Y      F               7.0        30.0   25          NaN        NaN   \n",
       "4     Y      M               5.0        19.0   22          NaN        NaN   \n",
       "\n",
       "  party       race  hs_only  married  children  cath  evang  non_chrst  \\\n",
       "0     U   Hispanic     25.4     63.4      54.0  16.7   16.5       39.6   \n",
       "1     U    Uncoded      7.9     97.8      59.8  16.7   15.5       30.9   \n",
       "2     U  Caucasian     50.2      7.6      49.5  14.6   24.0       29.6   \n",
       "3     D  Caucasian     38.0      8.5      47.4  13.1   22.3       33.3   \n",
       "4     R  Caucasian     30.5     19.1      23.1  16.0   10.5       39.1   \n",
       "\n",
       "   other_chrst  days_reg  \n",
       "0         27.3       420  \n",
       "1         36.9       307  \n",
       "2         31.7       292  \n",
       "3         31.4       316  \n",
       "4         34.5       392  "
      ]
     },
     "execution_count": 24,
     "metadata": {},
     "output_type": "execute_result"
    }
   ],
   "source": [
    "#load voter data; congress_district and state_house coded as strings\n",
    "data = wv.load_data('train_renamed.csv')\n",
    "data.head()"
   ]
  },
  {
   "cell_type": "code",
   "execution_count": 25,
   "metadata": {
    "collapsed": false
   },
   "outputs": [
    {
     "name": "stdout",
     "output_type": "stream",
     "text": [
      "<class 'pandas.core.frame.DataFrame'>\n",
      "RangeIndex: 118529 entries, 0 to 118528\n",
      "Data columns (total 17 columns):\n",
      "voted                118529 non-null object\n",
      "gender               118529 non-null object\n",
      "congress_district    118527 non-null object\n",
      "state_house          118527 non-null object\n",
      "age                  118529 non-null int64\n",
      "dist_ballot          5282 non-null float64\n",
      "dist_poll            5282 non-null float64\n",
      "party                118529 non-null object\n",
      "race                 118529 non-null object\n",
      "hs_only              118529 non-null float64\n",
      "married              118529 non-null float64\n",
      "children             118529 non-null float64\n",
      "cath                 118529 non-null float64\n",
      "evang                118529 non-null float64\n",
      "non_chrst            118529 non-null float64\n",
      "other_chrst          118529 non-null float64\n",
      "days_reg             118529 non-null int64\n",
      "dtypes: float64(9), int64(2), object(6)\n",
      "memory usage: 15.4+ MB\n"
     ]
    }
   ],
   "source": [
    "data.info()"
   ]
  },
  {
   "cell_type": "markdown",
   "metadata": {},
   "source": [
    "As there are so many missing values, let's first explore features in the 5282 observations where all columns are present."
   ]
  },
  {
   "cell_type": "code",
   "execution_count": 27,
   "metadata": {
    "collapsed": false
   },
   "outputs": [
    {
     "name": "stdout",
     "output_type": "stream",
     "text": [
      "<class 'pandas.core.frame.DataFrame'>\n",
      "Int64Index: 5282 entries, 30 to 118499\n",
      "Data columns (total 17 columns):\n",
      "voted                5282 non-null object\n",
      "gender               5282 non-null object\n",
      "congress_district    5282 non-null object\n",
      "state_house          5282 non-null object\n",
      "age                  5282 non-null int64\n",
      "dist_ballot          5282 non-null float64\n",
      "dist_poll            5282 non-null float64\n",
      "party                5282 non-null object\n",
      "race                 5282 non-null object\n",
      "hs_only              5282 non-null float64\n",
      "married              5282 non-null float64\n",
      "children             5282 non-null float64\n",
      "cath                 5282 non-null float64\n",
      "evang                5282 non-null float64\n",
      "non_chrst            5282 non-null float64\n",
      "other_chrst          5282 non-null float64\n",
      "days_reg             5282 non-null int64\n",
      "dtypes: float64(9), int64(2), object(6)\n",
      "memory usage: 742.8+ KB\n"
     ]
    }
   ],
   "source": [
    "no_nulls = data.dropna()\n",
    "no_nulls.info()\n",
    "no_nulls.to_csv('no_nulls', index = False, compression = 'gzip')"
   ]
  },
  {
   "cell_type": "code",
   "execution_count": 30,
   "metadata": {
    "collapsed": false
   },
   "outputs": [
    {
     "data": {
      "text/plain": [
       "Y    3897\n",
       "N    1385\n",
       "Name: voted, dtype: int64"
      ]
     },
     "execution_count": 30,
     "metadata": {},
     "output_type": "execute_result"
    }
   ],
   "source": [
    "no_nulls['voted'].value_counts()"
   ]
  },
  {
   "cell_type": "markdown",
   "metadata": {},
   "source": [
    "The imbalance between the two classes of the response variable is somewhat preserved, although the imbalance is slightly greater in favor of the positive class then in the full dataset.\n",
    "\n",
    "Let's create X and y matrices for model fitting."
   ]
  },
  {
   "cell_type": "code",
   "execution_count": 37,
   "metadata": {
    "collapsed": false
   },
   "outputs": [
    {
     "name": "stderr",
     "output_type": "stream",
     "text": [
      "/usr/local/lib/python3.6/site-packages/ipykernel/__main__.py:3: SettingWithCopyWarning: \n",
      "A value is trying to be set on a copy of a slice from a DataFrame\n",
      "\n",
      "See the caveats in the documentation: http://pandas.pydata.org/pandas-docs/stable/indexing.html#indexing-view-versus-copy\n",
      "  app.launch_new_instance()\n"
     ]
    },
    {
     "data": {
      "text/plain": [
       "(5282,)"
      ]
     },
     "execution_count": 37,
     "metadata": {},
     "output_type": "execute_result"
    },
    {
     "data": {
      "text/plain": [
       "(5282, 98)"
      ]
     },
     "execution_count": 37,
     "metadata": {},
     "output_type": "execute_result"
    }
   ],
   "source": [
    "#converts 'Y' and 'N' to 1s and 0s\n",
    "y_vector = wv.get_y_vector(no_nulls, 'voted')\n",
    "no_nulls.drop('voted', axis = 1, inplace = True)\n",
    "\n",
    "#generates lists of names of quantitative and categorical columns\n",
    "quant, categ = wv.get_cols[no_null]\n",
    "\n",
    "#converts dataframe to matrix where categorical variables are one-hot-encoded\n",
    "X_matrix = wv.design_Xmatrix(no_nulls, quant, categ)\n",
    "\n",
    "y_vector.shape\n",
    "X_matrix.shape"
   ]
  },
  {
   "cell_type": "markdown",
   "metadata": {},
   "source": [
    "### Fitting a random forest to identify potentially important features\n",
    "\n",
    "The RandomForestClassifier's feature_importances method calculates how important a given predictor is when making a split via mean decrease in impurity, which is the total decrease in node impurity averaged over all trees per split. Furthermore, random forests are generally good out-of-the-box models that can handle imbalanced classes, non-linear relationships and different types of predictor variables. By fitting a default random forest, we can thus get a sense of which covariates could aid in the prediction task while also getting a benchmark log-loss score, which is how our models will be evaluated in the competition.\n",
    "\n",
    "We first fit a model on only the 5282 observations where no missing values are present."
   ]
  },
  {
   "cell_type": "code",
   "execution_count": 45,
   "metadata": {
    "collapsed": false
   },
   "outputs": [
    {
     "data": {
      "text/plain": [
       "(-0.55755892528421891, 0.0073372008757506277)"
      ]
     },
     "execution_count": 45,
     "metadata": {},
     "output_type": "execute_result"
    }
   ],
   "source": [
    "#start with 10 cv splits\n",
    "cv = StratifiedKFold(n_splits = 10, random_state = 123)\n",
    "\n",
    "#set 100 trees and random state; all other parameters are default values\n",
    "clf_default = RandomForestClassifier(n_estimators = 100, random_state = 123)\n",
    "\n",
    "#returns mean & std of cv log-loss scores\n",
    "wv.cross_val_LL(clf_default, X_matrix, y_vector, cv)"
   ]
  },
  {
   "cell_type": "markdown",
   "metadata": {},
   "source": [
    "Examine the features used to make decisions (splits) at each node."
   ]
  },
  {
   "cell_type": "code",
   "execution_count": 47,
   "metadata": {
    "collapsed": false,
    "scrolled": false
   },
   "outputs": [
    {
     "data": {
      "text/html": [
       "<div>\n",
       "<table border=\"1\" class=\"dataframe\">\n",
       "  <thead>\n",
       "    <tr style=\"text-align: right;\">\n",
       "      <th></th>\n",
       "      <th>features</th>\n",
       "      <th>importance</th>\n",
       "    </tr>\n",
       "  </thead>\n",
       "  <tbody>\n",
       "    <tr>\n",
       "      <th>4</th>\n",
       "      <td>dist_ballot</td>\n",
       "      <td>0.075595</td>\n",
       "    </tr>\n",
       "    <tr>\n",
       "      <th>10</th>\n",
       "      <td>children</td>\n",
       "      <td>0.072817</td>\n",
       "    </tr>\n",
       "    <tr>\n",
       "      <th>2</th>\n",
       "      <td>state_house</td>\n",
       "      <td>0.069870</td>\n",
       "    </tr>\n",
       "    <tr>\n",
       "      <th>1</th>\n",
       "      <td>congress_district</td>\n",
       "      <td>0.067527</td>\n",
       "    </tr>\n",
       "    <tr>\n",
       "      <th>5</th>\n",
       "      <td>dist_poll</td>\n",
       "      <td>0.066841</td>\n",
       "    </tr>\n",
       "    <tr>\n",
       "      <th>3</th>\n",
       "      <td>age</td>\n",
       "      <td>0.066520</td>\n",
       "    </tr>\n",
       "    <tr>\n",
       "      <th>4</th>\n",
       "      <td>race</td>\n",
       "      <td>0.065688</td>\n",
       "    </tr>\n",
       "    <tr>\n",
       "      <th>3</th>\n",
       "      <td>party</td>\n",
       "      <td>0.065589</td>\n",
       "    </tr>\n",
       "    <tr>\n",
       "      <th>9</th>\n",
       "      <td>married</td>\n",
       "      <td>0.064899</td>\n",
       "    </tr>\n",
       "    <tr>\n",
       "      <th>8</th>\n",
       "      <td>hs_only</td>\n",
       "      <td>0.064329</td>\n",
       "    </tr>\n",
       "    <tr>\n",
       "      <th>0</th>\n",
       "      <td>gender</td>\n",
       "      <td>0.058022</td>\n",
       "    </tr>\n",
       "    <tr>\n",
       "      <th>11</th>\n",
       "      <td>cath</td>\n",
       "      <td>0.013197</td>\n",
       "    </tr>\n",
       "    <tr>\n",
       "      <th>14</th>\n",
       "      <td>other_chrst</td>\n",
       "      <td>0.006624</td>\n",
       "    </tr>\n",
       "    <tr>\n",
       "      <th>15</th>\n",
       "      <td>days_reg</td>\n",
       "      <td>0.006595</td>\n",
       "    </tr>\n",
       "    <tr>\n",
       "      <th>13</th>\n",
       "      <td>non_chrst</td>\n",
       "      <td>0.005744</td>\n",
       "    </tr>\n",
       "    <tr>\n",
       "      <th>12</th>\n",
       "      <td>evang</td>\n",
       "      <td>0.000008</td>\n",
       "    </tr>\n",
       "  </tbody>\n",
       "</table>\n",
       "</div>"
      ],
      "text/plain": [
       "             features  importance\n",
       "4         dist_ballot    0.075595\n",
       "10           children    0.072817\n",
       "2         state_house    0.069870\n",
       "1   congress_district    0.067527\n",
       "5           dist_poll    0.066841\n",
       "3                 age    0.066520\n",
       "4                race    0.065688\n",
       "3               party    0.065589\n",
       "9             married    0.064899\n",
       "8             hs_only    0.064329\n",
       "0              gender    0.058022\n",
       "11               cath    0.013197\n",
       "14        other_chrst    0.006624\n",
       "15           days_reg    0.006595\n",
       "13          non_chrst    0.005744\n",
       "12              evang    0.000008"
      ]
     },
     "execution_count": 47,
     "metadata": {},
     "output_type": "execute_result"
    }
   ],
   "source": [
    "wv.find_important_features(no_nulls, clf_default.fit(X_matrix, y_vector), \n",
    "                           categ_cols, quant_cols)"
   ]
  },
  {
   "cell_type": "markdown",
   "metadata": {},
   "source": [
    "According to the default classifier, dist_ballot and dist_poll have high importance scores and can help distinguish between those who did and did not vote. When a classifier is fit on all observations without these 2 columns (see below), the log-loss score is also less than the log-loss score from the model fit to the data missing most rows. These findings suggest dist_ballot and dist_poll will be important for making predictions."
   ]
  },
  {
   "cell_type": "code",
   "execution_count": 60,
   "metadata": {
    "collapsed": false
   },
   "outputs": [
    {
     "data": {
      "text/plain": [
       "(118529,)"
      ]
     },
     "execution_count": 60,
     "metadata": {},
     "output_type": "execute_result"
    }
   ],
   "source": [
    "#get full response vector\n",
    "y = wv.get_y_vector(data, 'voted')\n",
    "y.shape"
   ]
  },
  {
   "cell_type": "code",
   "execution_count": 61,
   "metadata": {
    "collapsed": false
   },
   "outputs": [
    {
     "data": {
      "text/plain": [
       "(118529, 96)"
      ]
     },
     "execution_count": 61,
     "metadata": {},
     "output_type": "execute_result"
    }
   ],
   "source": [
    "#create X matrix without distance metrics\n",
    "no_dist = data.drop(['voted', 'dist_ballot', 'dist_poll'], axis = 1)\n",
    "\n",
    "quant3, categ3 = wv.get_cols(no_dist)\n",
    "X_nodist = wv.design_Xmatrix(no_dist, quant3, categ3)\n",
    "X_nodist.shape"
   ]
  },
  {
   "cell_type": "code",
   "execution_count": 62,
   "metadata": {
    "collapsed": false
   },
   "outputs": [
    {
     "data": {
      "text/plain": [
       "(-0.56769026462139638, 0.0039721495481984921)"
      ]
     },
     "execution_count": 62,
     "metadata": {},
     "output_type": "execute_result"
    }
   ],
   "source": [
    "wv.cross_val_LL(clf_default, X_nodist, y, cv)"
   ]
  },
  {
   "cell_type": "markdown",
   "metadata": {},
   "source": [
    "### Can we eliminate any features?\n",
    "\n",
    "We want to test whether eliminating features deemed unimportant by the random forest results in a decreased log-loss."
   ]
  },
  {
   "cell_type": "code",
   "execution_count": 75,
   "metadata": {
    "collapsed": false
   },
   "outputs": [
    {
     "data": {
      "text/plain": [
       "(-0.55740517971166526, 0.0099206122521314118)"
      ]
     },
     "execution_count": 75,
     "metadata": {},
     "output_type": "execute_result"
    },
    {
     "data": {
      "text/plain": [
       "(-0.5580721042775999, 0.005600791120642652)"
      ]
     },
     "execution_count": 75,
     "metadata": {},
     "output_type": "execute_result"
    },
    {
     "data": {
      "text/plain": [
       "(-0.56211666251687831, 0.0059754751911819037)"
      ]
     },
     "execution_count": 75,
     "metadata": {},
     "output_type": "execute_result"
    },
    {
     "data": {
      "text/plain": [
       "(-0.57247490932110379, 0.024143017883888975)"
      ]
     },
     "execution_count": 75,
     "metadata": {},
     "output_type": "execute_result"
    }
   ],
   "source": [
    "#4 columns with lowest importance scores from default RF\n",
    "col_to_drop = ['evang', 'non_chrst', 'days_reg', 'other_chrst']\n",
    "\n",
    "#test log-loss score when columns are sequentially dropped by importance score\n",
    "for i, _ in enumerate(col_to_drop):\n",
    "    fewer_features = no_nulls.drop(col_to_drop[0:(i+1)], axis = 1)\n",
    "\n",
    "    #generate new columns and design matrix\n",
    "    quant2, categ2 = wv.get_cols(fewer_features)\n",
    "    X_fewer = wv.design_Xmatrix(fewer_features, quant2, categ2)\n",
    "    wv.cross_val_LL(clf_default, X_fewer, y_vector, cv)"
   ]
  },
  {
   "cell_type": "markdown",
   "metadata": {},
   "source": [
    "Removing likelihood of being evangelical, which was the least important predictor used by the random forest, results in a (slightly) lower log-loss compared to the model trained with all predictors. However, because the log-loss decrease is not large, and because we are not training on all observations in the dataset, we will have to re-evaluate model performance following imputation.\n",
    "\n",
    "We will impute the missing values in dist_ballot and dist_poll in [part 3](who-voted_impute.ipynb)."
   ]
  }
 ],
 "metadata": {
  "kernelspec": {
   "display_name": "Python 3",
   "language": "python",
   "name": "python3"
  },
  "language_info": {
   "codemirror_mode": {
    "name": "ipython",
    "version": 3
   },
   "file_extension": ".py",
   "mimetype": "text/x-python",
   "name": "python",
   "nbconvert_exporter": "python",
   "pygments_lexer": "ipython3",
   "version": "3.6.0"
  }
 },
 "nbformat": 4,
 "nbformat_minor": 2
}
